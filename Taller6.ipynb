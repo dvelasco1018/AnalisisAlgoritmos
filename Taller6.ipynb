{
 "cells": [
  {
   "cell_type": "markdown",
   "metadata": {},
   "source": [
    "#Todos los pares de rutas más cortas\n",
    "\n",
    "Dado un grafo $G(V,E)$, con una función de peso $\\omega : E \\rightarrow \\mathbb{R}$"
   ]
  },
  {
   "cell_type": "markdown",
   "metadata": {},
   "source": [
    "$W$ es una matriz de $n\\times n$ ($|V|=n$) que representa los pesos de las aristas del grafo $G$. $W=(w_{ij})$, donde\n",
    "$$\n",
    "w_{ij}= \n",
    "\\begin{cases}\n",
    "    0 & \\text{si } i = j\\\\\n",
    "    \\omega(i,j) & \\text{si } i \\neq j \\text{ y }(i,j)\\in E\\\\\n",
    "    \\infty & \\text{si } i \\neq j \\text{ y }(i,j)\\in E\\\\\n",
    "\\end{cases}\n",
    "$$"
   ]
  },
  {
   "cell_type": "markdown",
   "metadata": {},
   "source": [
    "##Algoritmo de Floyd-Warshall"
   ]
  },
  {
   "cell_type": "code",
   "execution_count": 240,
   "metadata": {
    "collapsed": false
   },
   "outputs": [],
   "source": [
    "import numpy as np"
   ]
  },
  {
   "cell_type": "code",
   "execution_count": 241,
   "metadata": {
    "collapsed": true
   },
   "outputs": [],
   "source": [
    "def FloydWarshall(W):\n",
    "    n = W.shape[0]\n",
    "    D_list = []#Save each D^{(k)} matrix\n",
    "    D_list.append(W[:,:])#D^{(0)}\n",
    "    for k in range(n):        \n",
    "        D_k = D_list[k][:,:]\n",
    "        for i in range(n):\n",
    "            for j in range(n):\n",
    "                D_k[i,j] = min(D_list[k][i,j], D_list[k][i,k]+D_list[k][k,j])        \n",
    "        D_list.append(np.copy(D_k))\n",
    "    return D_k, D_list"
   ]
  },
  {
   "cell_type": "code",
   "execution_count": 242,
   "metadata": {
    "collapsed": false
   },
   "outputs": [
    {
     "name": "stdout",
     "output_type": "stream",
     "text": [
      "[[  0.   3.   8.  inf  -4.]\n",
      " [ inf   0.  inf   1.   7.]\n",
      " [ inf   4.   0.  inf  inf]\n",
      " [  2.  inf  -5.   0.  inf]\n",
      " [ inf  inf  inf   6.   0.]]\n"
     ]
    }
   ],
   "source": [
    "W = np.matrix(\n",
    "    [[0., 3., 8., float('inf'), -4.],\n",
    "     [float('inf'), 0., float('inf'), 1., 7.],\n",
    "     [float('inf'), 4., 0., float('inf'), float('inf')],\n",
    "     [2, float('inf'), -5., 0., float('inf')],\n",
    "     [float('inf'), float('inf'), float('inf'), 6., 0.],\n",
    "    ]\n",
    ")\n",
    "print W"
   ]
  },
  {
   "cell_type": "code",
   "execution_count": 243,
   "metadata": {
    "collapsed": false
   },
   "outputs": [],
   "source": [
    "D_n, Ds = FloydWarshall(W)"
   ]
  },
  {
   "cell_type": "code",
   "execution_count": 244,
   "metadata": {
    "collapsed": false
   },
   "outputs": [
    {
     "name": "stdout",
     "output_type": "stream",
     "text": [
      "[[ 0.  1. -3.  2. -4.]\n",
      " [ 3.  0. -4.  1. -1.]\n",
      " [ 7.  4.  0.  5.  3.]\n",
      " [ 2. -1. -5.  0. -2.]\n",
      " [ 8.  5.  1.  6.  0.]]\n"
     ]
    }
   ],
   "source": [
    "print D_n"
   ]
  },
  {
   "cell_type": "code",
   "execution_count": 245,
   "metadata": {
    "collapsed": false
   },
   "outputs": [
    {
     "name": "stdout",
     "output_type": "stream",
     "text": [
      "[[  0.   3.   8.  inf  -4.]\n",
      " [ inf   0.  inf   1.   7.]\n",
      " [ inf   4.   0.  inf  inf]\n",
      " [  2.   5.  -5.   0.  -2.]\n",
      " [ inf  inf  inf   6.   0.]]\n",
      "[[  0.   3.   8.   4.  -4.]\n",
      " [ inf   0.  inf   1.   7.]\n",
      " [ inf   4.   0.   5.  11.]\n",
      " [  2.   5.  -5.   0.  -2.]\n",
      " [ inf  inf  inf   6.   0.]]\n",
      "[[  0.   3.   8.   4.  -4.]\n",
      " [ inf   0.  inf   1.   7.]\n",
      " [ inf   4.   0.   5.  11.]\n",
      " [  2.  -1.  -5.   0.  -2.]\n",
      " [ inf  inf  inf   6.   0.]]\n",
      "[[ 0.  3. -1.  4. -4.]\n",
      " [ 3.  0. -4.  1. -1.]\n",
      " [ 7.  4.  0.  5.  3.]\n",
      " [ 2. -1. -5.  0. -2.]\n",
      " [ 8.  5.  1.  6.  0.]]\n",
      "[[ 0.  1. -3.  2. -4.]\n",
      " [ 3.  0. -4.  1. -1.]\n",
      " [ 7.  4.  0.  5.  3.]\n",
      " [ 2. -1. -5.  0. -2.]\n",
      " [ 8.  5.  1.  6.  0.]]\n",
      "[[ 0.  1. -3.  2. -4.]\n",
      " [ 3.  0. -4.  1. -1.]\n",
      " [ 7.  4.  0.  5.  3.]\n",
      " [ 2. -1. -5.  0. -2.]\n",
      " [ 8.  5.  1.  6.  0.]]\n"
     ]
    }
   ],
   "source": [
    "for D in Ds:\n",
    "    print D"
   ]
  },
  {
   "cell_type": "markdown",
   "metadata": {},
   "source": [
    "## (SSP) Dijkstra"
   ]
  },
  {
   "cell_type": "code",
   "execution_count": 246,
   "metadata": {
    "collapsed": true
   },
   "outputs": [],
   "source": [
    "from heapq import heappush, heappop\n",
    "\n",
    "def updateheap(heap,d,v):\n",
    "    for i in range(len(heap)):\n",
    "        if heap[i][1] == v:\n",
    "            heap[i][0] = d\n",
    "            fix_minheap(heap,i) # heap=heapify(heap) ineficient      \n",
    "            break    \n",
    "\n",
    "def fix_minheap(heap, i):\n",
    "    if i == 0: return  \n",
    "    p = int(i/2) #parent  \n",
    "    if p >= 0 and heap[p][0] > heap[i][0]:\n",
    "        heap[i], heap[p] = heap[p], heap[i]\n",
    "        fix_minheap(heap,p)   \n",
    "            \n",
    "def Dijkstra(G,start):\n",
    "        \n",
    "    D = {} # dictionary of final distances\n",
    "    for v in G:\n",
    "        D[v] = float('inf')\n",
    "    D[start] = 0\n",
    "    \n",
    "    P = {} # dictionary of predecessors\n",
    "    \n",
    "    Q=[] #  priority queue est.dist. of non-final vert.\n",
    "    for v in G:\n",
    "        item = []\n",
    "        item.append(D[v])\n",
    "        item.append(v)\n",
    "        heappush(Q,item)\n",
    "    \n",
    "    \n",
    "    #S = []\n",
    "    while Q:\n",
    "        u = heappop(Q)[1]\n",
    "        #S.append(u)\n",
    "        for v in G[u]:\n",
    "            newDuv = D[u] + G[u][v]\n",
    "            if newDuv < D[v]:\n",
    "                P[v] = u\n",
    "                D[v] = newDuv\n",
    "                updateheap(Q,D[v],v)\n",
    "    return D,P"
   ]
  },
  {
   "cell_type": "code",
   "execution_count": 247,
   "metadata": {
    "collapsed": false
   },
   "outputs": [],
   "source": [
    "# From  http://www.ics.uci.edu/~eppstein/161/python/dijkstra.py\n",
    "# David Eppstein, UC Irvine, 4 April 2002\n",
    "def shortestPath(G,start,end,method):\n",
    "    \"\"\"\n",
    "    Find a single shortest path from the given start vertex to the given end vertex.\n",
    "    The input has the same conventions as Dijkstra().\n",
    "    The output is a list of the vertices in order along the shortest path.\n",
    "     \"\"\"\n",
    "    if method ==  'Dijkstra':\n",
    "        D,P = Dijkstra(G,start)\n",
    "    elif method == 'Bellman':\n",
    "        D,P = BellmanFord(G,start)\n",
    "    else:\n",
    "        D,P = Dijkstra(G,start)\n",
    "    \n",
    "    Path = []\n",
    "    while 1:\n",
    "        Path.append(end)\n",
    "        if end == start: break\n",
    "        end = P[end]\n",
    "    Path.reverse()\n",
    "    return Path\n"
   ]
  },
  {
   "cell_type": "code",
   "execution_count": 248,
   "metadata": {
    "collapsed": false
   },
   "outputs": [
    {
     "name": "stdout",
     "output_type": "stream",
     "text": [
      "({'y': 7, 'x': 5, 's': 0, 'u': 8, 'v': 9}, {'y': 'x', 'x': 's', 'u': 'x', 'v': 'u'})\n",
      "['s', 'x', 'u', 'v']\n"
     ]
    }
   ],
   "source": [
    "# example, CLR p.528\n",
    "G = {'s': {'u':10, 'x':5},\n",
    "    'u': {'v':1, 'x':2},\n",
    "    'v': {'y':4},\n",
    "    'x':{'u':3,'v':9,'y':2},\n",
    "    'y':{'s':7,'v':6}}\n",
    "\n",
    "print(Dijkstra(G,'s'))\n",
    "print(shortestPath(G,'s','v','Dijkstra'))"
   ]
  },
  {
   "cell_type": "markdown",
   "metadata": {},
   "source": [
    "##(SSP) - Bellman-Ford"
   ]
  },
  {
   "cell_type": "code",
   "execution_count": 249,
   "metadata": {
    "collapsed": true
   },
   "outputs": [],
   "source": [
    "def BellmanFord(G,start):\n",
    "    \n",
    "    D = {} # dictionary of final distances\n",
    "    for v in G:\n",
    "        D[v] = float('inf')\n",
    "    D[start] = 0\n",
    "    \n",
    "    P = {} # dictionary of predecessors\n",
    "    \n",
    "    for i in range(len(G)-1):\n",
    "        for u in G:\n",
    "            for v in G[u]:   \n",
    "                newDv = D[u] + G[u][v]\n",
    "                if newDv < D[v]:\n",
    "                    P[v] = u\n",
    "                    D[v] = newDv\n",
    "    \n",
    "    for u in G:\n",
    "        for v in G[u]:   \n",
    "            newDv = D[u] + G[u][v]\n",
    "            if newDv < D[v]: print(\"Negative cicle\",u,v)\n",
    "                \n",
    "    return D,P\n",
    "\n"
   ]
  },
  {
   "cell_type": "code",
   "execution_count": 250,
   "metadata": {
    "collapsed": false
   },
   "outputs": [
    {
     "name": "stdout",
     "output_type": "stream",
     "text": [
      "({'y': 7, 'x': 5, 's': 0, 'u': 8, 'v': 9}, {'y': 'x', 'x': 's', 'u': 'x', 'v': 'u'})\n",
      "['s', 'x', 'u', 'v']\n"
     ]
    }
   ],
   "source": [
    "# example, CLR p.528\n",
    "G = {'s': {'u':10, 'x':5},\n",
    "    'u': {'v':1, 'x':2},\n",
    "    'v': {'y':4},\n",
    "    'x':{'u':3,'v':9,'y':2},\n",
    "    'y':{'s':7,'v':6}}\n",
    "\n",
    "print(BellmanFord(G,'s'))\n",
    "print(shortestPath(G,'s','v','Bellman'))\n"
   ]
  },
  {
   "cell_type": "code",
   "execution_count": 251,
   "metadata": {
    "collapsed": false
   },
   "outputs": [
    {
     "name": "stdout",
     "output_type": "stream",
     "text": [
      "('Negative cicle', 'x', 'y')\n",
      "('Negative cicle', 'x', 'u')\n",
      "({'y': 1, 'x': -2, 's': 0, 'u': 2, 'v': 3}, {'y': 'x', 'x': 'u', 'u': 'x', 'v': 'u'})\n"
     ]
    }
   ],
   "source": [
    "#  modified negative cicle w(u,x) = -4\n",
    "G = {'s': {'u':10, 'x':1},\n",
    "    'u': {'v':1, 'x':-4},\n",
    "    'v': {'y':4},\n",
    "    'x':{'u':3,'v':9,'y':2},\n",
    "    'y':{'s':7,'v':6}}\n",
    "\n",
    "print(BellmanFord(G,'s'))"
   ]
  },
  {
   "cell_type": "markdown",
   "metadata": {},
   "source": [
    "<h1>Actividad</h1>\n",
    " <ol>\n",
    "  <li>Implemente un método para crear grafos aleatorios de $n$ vertices, donde con probabilidad $\\psi \\in [0,1]$ definira si exite una arista entre cada par de vertices $(i,j)$. El peso $\\omega(i,j) \\in [minw, maxw]$ se asignará de manera aleatoria uniformemente en el intervalo $[minw, maxw]$</li>\n",
    "  <li>Adapte el algoritmo de Dijkstra para calcular todos los pares de rutas más cortas</li>\n",
    "  <li>Adapte el algoritmo de Bellman-Ford para calcular todos los pares de rutas más cortas</li>\n",
    "  <li>Implemente el algoritmo de BFS para calcular todos los pares de rutas más cortas (asumiendo que la longitud de la ruta esta dada por la cantidad de aristas que interviene más no por su peso)</li>\n",
    "  <li>Compare experimentalmente los algoritmos incluyendo Floyd-Warshall para grafos aleatorios densos ($\\psi$ cercano a 0) variando linealmente los tamaños de $n$</li>\n",
    "  <li>Compare experimentalmente los algoritmos incluyendo Floyd-Warshall para grafos aleatorios dispersos ($\\psi$ cercano a 1) variando linealmente los tamaños de $n$</li>\n",
    "</ol> "
   ]
  },
  {
   "cell_type": "markdown",
   "metadata": {},
   "source": [
    "<h2> Primer Punto </h2>"
   ]
  },
  {
   "cell_type": "code",
   "execution_count": 279,
   "metadata": {
    "collapsed": false
   },
   "outputs": [],
   "source": [
    "import random\n",
    "\n",
    "def crearGrafo(omega, n, minw, maxw):\n",
    "    G = {};\n",
    "    mat = np.ones((n , n) ) * float('inf')\n",
    "    for i in range(n):\n",
    "        x = {};\n",
    "        for j in range(n):\n",
    "            if i <> j:\n",
    "                a = random.randrange(0.0,100.0)\n",
    "                b = a/100.0\n",
    "                if(b > omega):\n",
    "                    peso = random.randrange(minw,maxw)\n",
    "                    x[str(j)] = peso;\n",
    "                    mat[i,j] = peso;\n",
    "            else:\n",
    "                mat[i,j] = 0;\n",
    "        G[str(i)] = x;\n",
    "    \n",
    "    return G, mat            \n",
    "            \n",
    "        "
   ]
  },
  {
   "cell_type": "code",
   "execution_count": 280,
   "metadata": {
    "collapsed": false
   },
   "outputs": [
    {
     "data": {
      "text/plain": [
       "({'0': {'1': 17, '3': 15, '4': 10, '6': 15, '7': 19, '9': 19},\n",
       "  '1': {'2': 15, '3': 18, '4': 14, '6': 15, '7': 10},\n",
       "  '2': {'0': 13, '1': 15, '7': 13, '8': 18},\n",
       "  '3': {'1': 13, '2': 18, '4': 12, '5': 16, '8': 18, '9': 12},\n",
       "  '4': {'1': 14, '2': 16, '9': 17},\n",
       "  '5': {'0': 19, '1': 12, '2': 12, '4': 14, '6': 17},\n",
       "  '6': {'0': 11, '5': 19},\n",
       "  '7': {'0': 17, '1': 15, '2': 11, '6': 15, '8': 17, '9': 10},\n",
       "  '8': {'0': 19, '3': 16, '4': 18, '9': 11},\n",
       "  '9': {'1': 11, '3': 19, '6': 15, '7': 10, '8': 18}},\n",
       " array([[  0.,  17.,  inf,  15.,  10.,  inf,  15.,  19.,  inf,  19.],\n",
       "        [ inf,   0.,  15.,  18.,  14.,  inf,  15.,  10.,  inf,  inf],\n",
       "        [ 13.,  15.,   0.,  inf,  inf,  inf,  inf,  13.,  18.,  inf],\n",
       "        [ inf,  13.,  18.,   0.,  12.,  16.,  inf,  inf,  18.,  12.],\n",
       "        [ inf,  14.,  16.,  inf,   0.,  inf,  inf,  inf,  inf,  17.],\n",
       "        [ 19.,  12.,  12.,  inf,  14.,   0.,  17.,  inf,  inf,  inf],\n",
       "        [ 11.,  inf,  inf,  inf,  inf,  19.,   0.,  inf,  inf,  inf],\n",
       "        [ 17.,  15.,  11.,  inf,  inf,  inf,  15.,   0.,  17.,  10.],\n",
       "        [ 19.,  inf,  inf,  16.,  18.,  inf,  inf,  inf,   0.,  11.],\n",
       "        [ inf,  11.,  inf,  19.,  inf,  inf,  15.,  10.,  18.,   0.]]))"
      ]
     },
     "execution_count": 280,
     "metadata": {},
     "output_type": "execute_result"
    }
   ],
   "source": [
    "crearGrafo ( 0.5 , 10 , 10 , 20 )"
   ]
  },
  {
   "cell_type": "markdown",
   "metadata": {},
   "source": [
    "<h2> Segundo Punto </h2>"
   ]
  },
  {
   "cell_type": "code",
   "execution_count": 281,
   "metadata": {
    "collapsed": false
   },
   "outputs": [],
   "source": [
    "from heapq import heappush, heappop\n",
    "\n",
    "def updateheap(heap,d,v):\n",
    "    for i in range(len(heap)):\n",
    "        if heap[i][1] == v:\n",
    "            heap[i][0] = d\n",
    "            fix_minheap(heap,i) # heap=heapify(heap) ineficient      \n",
    "            break    \n",
    "\n",
    "def fix_minheap(heap, i):\n",
    "    if i == 0: return  \n",
    "    p = int(i/2) #parent  \n",
    "    if p >= 0 and heap[p][0] > heap[i][0]:\n",
    "        heap[i], heap[p] = heap[p], heap[i]\n",
    "        fix_minheap(heap,p)   \n",
    "            \n",
    "def Dijkstra(G,start):\n",
    "        \n",
    "    D = {} # dictionary of final distances\n",
    "    for v in G:\n",
    "        D[v] = float('inf')\n",
    "    D[start] = 0\n",
    "    \n",
    "    P = {} # dictionary of predecessors\n",
    "    \n",
    "    Q=[] #  priority queue est.dist. of non-final vert.\n",
    "    for v in G:\n",
    "        item = []\n",
    "        item.append(D[v])\n",
    "        item.append(v)\n",
    "        heappush(Q,item)\n",
    "    \n",
    "    \n",
    "    #S = []\n",
    "    while Q:\n",
    "        u = heappop(Q)[1]\n",
    "        #S.append(u)\n",
    "        for v in G[u]:\n",
    "            newDuv = D[u] + G[u][v]\n",
    "            if newDuv < D[v]:\n",
    "                P[v] = u\n",
    "                D[v] = newDuv\n",
    "                updateheap(Q,D[v],v)\n",
    "    return D,P\n",
    "\n",
    "def DijkstraTodos(G):\n",
    "    \n",
    "    T={};\n",
    "    for n in G:\n",
    "        D,P = Dijkstra(G, n);\n",
    "        T[n] = D;\n",
    "    return T;\n",
    "    \n",
    "    \n"
   ]
  },
  {
   "cell_type": "code",
   "execution_count": 282,
   "metadata": {
    "collapsed": false
   },
   "outputs": [
    {
     "name": "stdout",
     "output_type": "stream",
     "text": [
      "{'y': {'y': 0, 'x': 12, 's': 7, 'u': 15, 'v': 6}, 'x': {'y': 2, 'x': 0, 's': 9, 'u': 3, 'v': 4}, 's': {'y': 7, 'x': 5, 's': 0, 'u': 8, 'v': 9}, 'u': {'y': 4, 'x': 2, 's': 11, 'u': 0, 'v': 1}, 'v': {'y': 4, 'x': 16, 's': 11, 'u': 19, 'v': 0}}\n"
     ]
    }
   ],
   "source": [
    "G = {'s': {'u':10, 'x':5},\n",
    "    'u': {'v':1, 'x':2},\n",
    "    'v': {'y':4},\n",
    "    'x':{'u':3,'v':9,'y':2},\n",
    "    'y':{'s':7,'v':6}}\n",
    "\n",
    "print DijkstraTodos(G);\n",
    "\n",
    "#DijkstraTodos( crearGrafo ( 0.5 , 10 , 10 , 20 ) );"
   ]
  },
  {
   "cell_type": "markdown",
   "metadata": {},
   "source": [
    "<h2> Tercer Punto </h2>"
   ]
  },
  {
   "cell_type": "code",
   "execution_count": 283,
   "metadata": {
    "collapsed": true
   },
   "outputs": [],
   "source": [
    "def BellmanFord(G,start):\n",
    "    \n",
    "    D = {} # dictionary of final distances\n",
    "    for v in G:\n",
    "        D[v] = float('inf')\n",
    "    D[start] = 0\n",
    "    \n",
    "    P = {} # dictionary of predecessors\n",
    "    \n",
    "    for i in range(len(G)-1):\n",
    "        for u in G:\n",
    "            for v in G[u]:   \n",
    "                newDv = D[u] + G[u][v]\n",
    "                if newDv < D[v]:\n",
    "                    P[v] = u\n",
    "                    D[v] = newDv\n",
    "    \n",
    "    for u in G:\n",
    "        for v in G[u]:   \n",
    "            newDv = D[u] + G[u][v]\n",
    "            if newDv < D[v]: print(\"Negative cicle\",u,v)\n",
    "                \n",
    "    return D,P\n",
    "\n",
    "def BellmanFordTodos(G):\n",
    "    \n",
    "    T={};\n",
    "    for n in G:\n",
    "        D,P = BellmanFord(G, n);\n",
    "        T[n] = D;\n",
    "    return T;"
   ]
  },
  {
   "cell_type": "code",
   "execution_count": 284,
   "metadata": {
    "collapsed": false,
    "scrolled": true
   },
   "outputs": [
    {
     "name": "stdout",
     "output_type": "stream",
     "text": [
      "{'y': {'y': 0, 'x': 12, 's': 7, 'u': 15, 'v': 6}, 'x': {'y': 2, 'x': 0, 's': 9, 'u': 3, 'v': 4}, 's': {'y': 7, 'x': 5, 's': 0, 'u': 8, 'v': 9}, 'u': {'y': 4, 'x': 2, 's': 11, 'u': 0, 'v': 1}, 'v': {'y': 4, 'x': 16, 's': 11, 'u': 19, 'v': 0}}\n"
     ]
    }
   ],
   "source": [
    "G = {'s': {'u':10, 'x':5},\n",
    "    'u': {'v':1, 'x':2},\n",
    "    'v': {'y':4},\n",
    "    'x':{'u':3,'v':9,'y':2},\n",
    "    'y':{'s':7,'v':6}}\n",
    "\n",
    "print BellmanFordTodos(G);"
   ]
  },
  {
   "cell_type": "markdown",
   "metadata": {},
   "source": [
    "<h2> Cuarto Punto </h2>"
   ]
  },
  {
   "cell_type": "code",
   "execution_count": 285,
   "metadata": {
    "collapsed": true
   },
   "outputs": [],
   "source": [
    "def shortest_path_bfs(g, start, end):\n",
    "    paths = {None: []}\n",
    "    for parent, child in bfs(g, start):\n",
    "        paths[child] = paths[parent] + [child]\n",
    "        if child == end:\n",
    "            return paths[child]\n",
    "    return None \n",
    "\n",
    "from collections import deque\n",
    "\n",
    "def bfs(g, start):\n",
    "    queue, enqueued = deque([(None, start)]), set([start])\n",
    "    while queue:\n",
    "        parent, n = queue.popleft()\n",
    "        yield parent, n\n",
    "        new = set(g[n]) - enqueued\n",
    "        enqueued |= new\n",
    "        queue.extend([(n, child) for child in new])"
   ]
  },
  {
   "cell_type": "code",
   "execution_count": 290,
   "metadata": {
    "collapsed": true
   },
   "outputs": [],
   "source": [
    "def bfsTodos(G):\n",
    "    todos = {};\n",
    "    for n in G:\n",
    "        x = {};\n",
    "        for m in G:\n",
    "            if n<> m:\n",
    "                a = shortest_path_bfs(G,n, m);\n",
    "                if(a):\n",
    "                    x[m] = len(a) - 1 ;\n",
    "                else:\n",
    "                    x[m] = 999;\n",
    "        todos[n] = x;\n",
    "    return todos;\n",
    "            "
   ]
  },
  {
   "cell_type": "code",
   "execution_count": 291,
   "metadata": {
    "collapsed": false
   },
   "outputs": [
    {
     "name": "stdout",
     "output_type": "stream",
     "text": [
      "{'y': {'x': 2, 's': 1, 'u': 2, 'v': 1}, 'x': {'y': 1, 's': 2, 'u': 1, 'v': 1}, 's': {'y': 2, 'x': 1, 'u': 1, 'v': 2}, 'u': {'y': 2, 'x': 1, 's': 3, 'v': 1}, 'v': {'y': 1, 'x': 3, 's': 2, 'u': 3}}\n"
     ]
    }
   ],
   "source": [
    "G = {'s': {'u':1, 'x':5},\n",
    "    'u': {'v':1, 'x':2},\n",
    "    'v': {'y':4},\n",
    "    'x':{'u':3,'v':9,'y':2},\n",
    "    'y':{'s':7,'v':6}}\n",
    "\n",
    "print bfsTodos(G);\n"
   ]
  },
  {
   "cell_type": "markdown",
   "metadata": {},
   "source": [
    "<h2> Quinto Punto </h2>"
   ]
  },
  {
   "cell_type": "code",
   "execution_count": 300,
   "metadata": {
    "collapsed": false
   },
   "outputs": [
    {
     "data": {
      "text/plain": [
       "[<matplotlib.lines.Line2D at 0x9c7de10>]"
      ]
     },
     "execution_count": 300,
     "metadata": {},
     "output_type": "execute_result"
    },
    {
     "data": {
      "image/png": "[encoded data removed]",
      "text/plain": [
       "<matplotlib.figure.Figure at 0x81edda0>"
      ]
     },
     "metadata": {},
     "output_type": "display_data"
    }
   ],
   "source": [
    "import time\n",
    "import pylab as pl\n",
    "%matplotlib inline\n",
    "\n",
    "pl.clf()\n",
    "n = 50;\n",
    "probabilidad = 0.2;\n",
    "minw = 10;\n",
    "maxw = 100;\n",
    "\n",
    "results1 = []\n",
    "results2 = []\n",
    "results3 = []\n",
    "results4 = []\n",
    "\n",
    "for i in range(3,n):\n",
    "\n",
    "    G, mat = crearGrafo(probabilidad, i , minw , maxw);\n",
    "    \n",
    "    tic = time.clock()\n",
    "    FloydWarshall(mat)\n",
    "    toc = time.clock()\n",
    "    results1.append((toc-tic))\n",
    "    \n",
    "    tic = time.clock()\n",
    "    DijkstraTodos(G);\n",
    "    toc = time.clock()\n",
    "    results2.append((toc-tic))\n",
    "    \n",
    "    tic = time.clock()\n",
    "    BellmanFordTodos(G);\n",
    "    toc = time.clock()\n",
    "    results3.append((toc-tic))\n",
    "    \n",
    "    tic = time.clock()\n",
    "    bfsTodos(G);\n",
    "    toc = time.clock()\n",
    "    results4.append((toc-tic))\n",
    "    \n",
    "x = np.arange(n-3)\n",
    "y = np.array(results1)\n",
    "pl.plot(x, y, 'k.',color='red')  #De color rojo es FloydWarshall\n",
    "y = np.array(results2)\n",
    "pl.plot(x, y, 'k.',color='green') #En verde es Dijkstra\n",
    "y = np.array(results3)\n",
    "pl.plot(x, y, 'k.',color='blue') #En azul es BellmanFord\n",
    "y = np.array(results4)\n",
    "pl.plot(x, y, 'k.',color='black') #En negro es BFS"
   ]
  },
  {
   "cell_type": "markdown",
   "metadata": {},
   "source": [
    "<h2> Sexto Punto </h2>"
   ]
  },
  {
   "cell_type": "code",
   "execution_count": 302,
   "metadata": {
    "collapsed": false
   },
   "outputs": [
    {
     "data": {
      "text/plain": [
       "[<matplotlib.lines.Line2D at 0xa0fbeb8>]"
      ]
     },
     "execution_count": 302,
     "metadata": {},
     "output_type": "execute_result"
    },
    {
     "data": {
      "image/png": "[encoded data removed]",
      "text/plain": [
       "<matplotlib.figure.Figure at 0x823eb38>"
      ]
     },
     "metadata": {},
     "output_type": "display_data"
    }
   ],
   "source": [
    "import time\n",
    "import pylab as pl\n",
    "%matplotlib inline\n",
    "\n",
    "pl.clf()\n",
    "n = 70;\n",
    "probabilidad = 0.8;\n",
    "minw = 10;\n",
    "maxw = 100;\n",
    "\n",
    "results1 = []\n",
    "results2 = []\n",
    "results3 = []\n",
    "results4 = []\n",
    "\n",
    "for i in range(3,n):\n",
    "\n",
    "    G, mat = crearGrafo(probabilidad, i , minw , maxw);\n",
    "    \n",
    "    tic = time.clock()\n",
    "    FloydWarshall(mat)\n",
    "    toc = time.clock()\n",
    "    results1.append((toc-tic))\n",
    "    \n",
    "    tic = time.clock()\n",
    "    DijkstraTodos(G);\n",
    "    toc = time.clock()\n",
    "    results2.append((toc-tic))\n",
    "    \n",
    "    tic = time.clock()\n",
    "    BellmanFordTodos(G);\n",
    "    toc = time.clock()\n",
    "    results3.append((toc-tic))\n",
    "    \n",
    "    tic = time.clock()\n",
    "    bfsTodos(G);\n",
    "    toc = time.clock()\n",
    "    results4.append((toc-tic))\n",
    "    \n",
    "x = np.arange(n-3)\n",
    "y = np.array(results1)\n",
    "pl.plot(x, y, 'k.',color='red')  #De color rojo es FloydWarshall\n",
    "y = np.array(results2)\n",
    "pl.plot(x, y, 'k.',color='green') #En verde es Dijkstra\n",
    "y = np.array(results3)\n",
    "pl.plot(x, y, 'k.',color='blue') #En azul es BellmanFord\n",
    "y = np.array(results4)\n",
    "pl.plot(x, y, 'k.',color='black') #En negro es BFS"
   ]
  },
  {
   "cell_type": "code",
   "execution_count": null,
   "metadata": {
    "collapsed": true
   },
   "outputs": [],
   "source": []
  }
 ],
 "metadata": {
  "anaconda-cloud": {},
  "kernelspec": {
   "display_name": "Python [default]",
   "language": "python",
   "name": "python2"
  },
  "language_info": {
   "codemirror_mode": {
    "name": "ipython",
    "version": 2
   },
   "file_extension": ".py",
   "mimetype": "text/x-python",
   "name": "python",
   "nbconvert_exporter": "python",
   "pygments_lexer": "ipython2",
   "version": "2.7.12"
  }
 },
 "nbformat": 4,
 "nbformat_minor": 0
}
