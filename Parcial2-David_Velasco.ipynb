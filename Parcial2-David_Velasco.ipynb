{
 "cells": [
  {
   "cell_type": "markdown",
   "metadata": {},
   "source": [
    "<h1> Parcial 2 </h1>\n",
    "\n",
    "\n"
   ]
  },
  {
   "cell_type": "markdown",
   "metadata": {},
   "source": [
    "<h4> 1. Es posible transformar algorithm en analysis sin usar operaciones “izquierda”. Escriba una secuencia\n",
    "de operaciones (de la misma forma que la tabla de ejemplo) que tenga el mismo costo que el mostrado\n",
    "en el ejemplo pero sin usar operaciones “izquierda”. </h4>"
   ]
  },
  {
   "cell_type": "markdown",
   "metadata": {},
   "source": [
    "<img src=\"https://fotos.subefotos.com/09f6fd74e6677cbac4e4fdf6c2244b9do.png\">"
   ]
  },
  {
   "cell_type": "markdown",
   "metadata": {},
   "source": [
    "<h4> 2.Muestre que para dos cadenas x y y con distancia de edición d(x, y), existe una secuencia S de operaciones\n",
    "que transforman x en y con costo d(x, y) donde S no contiene operaciones “izquierda”. </h4>\n"
   ]
  },
  {
   "cell_type": "markdown",
   "metadata": {},
   "source": [
    "Como se evidencia con el anterior punto, las operaciones no requieren un orden específico para llegar al mismo resultado, y con el mismo costo d(x,y), esto es porque las operaciones que se pueden realizar tienen sus inversas, (insertar-borrar), (derecha izquierda), (sustituir-sustituir).\n",
    "\n",
    "Al realizar la operación izquierda, se busca realizar insertar, borrar o reemplazar. Esto se puede suplir si se realiza la operación cuando el cursor está en la letra de la operación, y no esperar a que el cursor esté más a la derecha y devolverse.\n",
    "\n",
    "En el anterior punto, se llega a la misma solución del enunciado, poniendo al principio las operaciones de insertar, en vez de esperar a que el cursor esté a la derecha y tener que usar la operación de izquierda."
   ]
  },
  {
   "cell_type": "markdown",
   "metadata": {},
   "source": [
    "<h4> 3.Muestre que el problema de calcular la distancia de edición d(x, y) presenta una subestructura óptima.\n",
    "(Considere todos los sufijos de x y y) </h4>"
   ]
  },
  {
   "cell_type": "markdown",
   "metadata": {},
   "source": [
    "La subestructura óptima es:\n",
    "d(x,y) = min(d(x[1:],y) + 2 ; d(x,y[1:]) + 3 ; d(x[1:],y[1:] + (0 si x[0]==y[0] ; 4 en caso contrario)\n",
    "\n",
    "Para demostrar, se parte del supuesto contrario:\n",
    "\n",
    "Existe una distancia d(x,y) menor a d(x[1:],y) , d(x,y[1:]) y d(x[1:],y[1:]) , según los costos de cada transformación, esto es una contradicción ya que con la subestructura actual, se está explorando todas las posibles opciones de transformación. Y para que el supuesto fuera cierto, se debería realizar alguna operación que no esté en el conjunto de operaciones disponibles."
   ]
  },
  {
   "cell_type": "markdown",
   "metadata": {},
   "source": [
    "<h4> 4.Recursivamente defina el valor de la distancia de edición d(x, y) en terminos de los sufijos de las cadenas\n",
    "x y y. Señale como la distancia de edición contiene sobrelapamiento de los subproblemas </h4>"
   ]
  },
  {
   "cell_type": "markdown",
   "metadata": {},
   "source": [
    "<img src=\"https://fotos.subefotos.com/63051e39ab069c799f8d8510eb8bb785o.png\">\n",
    "\n",
    "\n",
    "Existe sobrelapamiento de operaciones, si en la primera iteración se llama d(x[1:],y) y en la segunda iteración d(x,y[1:]), es igual que si se llamara en la primera iteración d(x[1:],y[1:])"
   ]
  },
  {
   "cell_type": "markdown",
   "metadata": {},
   "source": [
    "<h4>5.Describa un algoritmo de programación dinámica que calcule la distancia de edición de x y y. (No use\n",
    "memorización) Analise el tiempo de ejecución y el espacio requeridos por su algoritmo.</h4>"
   ]
  },
  {
   "cell_type": "markdown",
   "metadata": {},
   "source": [
    "function distancia(x , y):\n",
    "\n",
    "\tif x.size = 0:\n",
    "\t\treturn y.size * 3\n",
    "\tend if\n",
    "\t\n",
    "\tif y.size = 0:\n",
    "\t\treturn x.size * 2\n",
    "\tend if\n",
    "\t\n",
    "\tif x[0] = y[0]:\n",
    "\t\tcosto = 0\n",
    "\telse:\n",
    "\t\tcosto = 4\n",
    "\tend if\n",
    "\t\n",
    "\treemplazar = distancia( x[1:] , y[1:] ) + costo \n",
    "\tborrar     = distancia( x[1:] , y ) + 2\n",
    "\tinsertar   = distancia( x , y[1:] ) + 3\n",
    "\t\n",
    "\treturn Min(reemplazar , borrar , insertar)\n",
    "\t\n",
    "end function\n",
    "\n",
    "  \n",
    "\n",
    "  \n",
    "  \n",
    "\n",
    "\n",
    "<strong>El algoritmo, en su camino más largo, hace llamado recursivo m + n veces, su ecuación de recurrencia es: \n",
    "\n",
    "Sea x = m+n, T(x) = 2T(x/x-1) + T(x/x-2) + 1\n",
    "\n",
    "Si no se tomara en cuenta  T(x/x-2), el número de llamados recursivos sería 2^(x-1)  => es decir O( 2^(n+m-1) )"
   ]
  },
  {
   "cell_type": "markdown",
   "metadata": {},
   "source": [
    "<h4>6.Implemente su algoritmo en Python, y publiquelo en un NoteBook donde lo pruebe para las cadenas:\n",
    "x = software engineering, y = computer science</h4>\n"
   ]
  },
  {
   "cell_type": "code",
   "execution_count": 11,
   "metadata": {
    "collapsed": true
   },
   "outputs": [],
   "source": [
    "def distancia(x, y):\n",
    "    if len(x)==0:\n",
    "        return len(y) * 3\n",
    "    \n",
    "    if len(y)==0:\n",
    "        return len(x) * 2\n",
    "    \n",
    "    costo = 0\n",
    "    if x[0] <> y[0]:\n",
    "        costo = 4\n",
    "    \n",
    "    \n",
    "    \n",
    "    reemplazar = distancia ( x[1:] , y[1:] ) + costo\n",
    "    borrar     = distancia ( x[1:] , y ) + 2\n",
    "    insertar   = distancia ( x , y[1:] ) + 3\n",
    "\n",
    "    \n",
    "    return min(reemplazar , borrar, insertar)\n",
    "        \n",
    "    \n",
    "    "
   ]
  },
  {
   "cell_type": "code",
   "execution_count": 8,
   "metadata": {
    "collapsed": false
   },
   "outputs": [
    {
     "data": {
      "text/plain": [
       "42"
      ]
     },
     "execution_count": 8,
     "metadata": {},
     "output_type": "execute_result"
    }
   ],
   "source": [
    "x2 = \"software engineering\"\n",
    "y2 = \"computer\"\n",
    "\n",
    "distancia(x2,y2)"
   ]
  },
  {
   "cell_type": "markdown",
   "metadata": {
    "collapsed": true
   },
   "source": [
    "<h2>Problema con memorización</h2>\n"
   ]
  },
  {
   "cell_type": "code",
   "execution_count": 66,
   "metadata": {
    "collapsed": true
   },
   "outputs": [],
   "source": [
    "import numpy as np\n",
    "\n",
    "def distancia2(cad1,cad2):\n",
    "    a =  len(cad1)+1\n",
    "    b =  len(cad2)+1\n",
    "    C = np.zeros((a, b))\n",
    "    \n",
    "    for i in range(0,len(cad1)+1):\n",
    "        C[i,0] = i * 3\n",
    "        \n",
    "    for j in range(0,len(cad2)+1):\n",
    "        C[0,j] = j * 2\n",
    "        \n",
    "    for i in range(1, len(cad1)+1):\n",
    "        for j in range(1, len(cad2)+1):\n",
    "            if (cad1[i-1] == cad2[j-1]):\n",
    "                C[i,j] = C[i-1,j-1]\n",
    "            else:\n",
    "                C[i,j] = min( C[i-1,j-1] + 4 , C[i-1,j] + 2 , C[i,j-1] + 3 )\n",
    "    return C[len(cad1),len(cad2)]"
   ]
  },
  {
   "cell_type": "code",
   "execution_count": 51,
   "metadata": {
    "collapsed": false
   },
   "outputs": [
    {
     "data": {
      "text/plain": [
       "47.0"
      ]
     },
     "execution_count": 51,
     "metadata": {},
     "output_type": "execute_result"
    }
   ],
   "source": [
    "x1 = \"software engineering\"\n",
    "y1 = \"computer science\"\n",
    "\n",
    "distancia2(x1,y1)"
   ]
  },
  {
   "cell_type": "markdown",
   "metadata": {},
   "source": [
    "<strong> Caso de entrada 1 </strong>"
   ]
  },
  {
   "cell_type": "code",
   "execution_count": 60,
   "metadata": {
    "collapsed": false
   },
   "outputs": [
    {
     "data": {
      "text/plain": [
       "1813.0"
      ]
     },
     "execution_count": 60,
     "metadata": {},
     "output_type": "execute_result"
    }
   ],
   "source": [
    "p1 = \"In fairy-tales, witches always wear silly black hats and black cloaks, and they ride on broomsticks.  But this is not a fairy-tale. This is about Real Witches.  The most important thing you should know about Real Witches is this.  Listen very carefully.  Never forget what is coming next.  Real Witches dress in ordinary clothes and look very much like ordinary women. They live in ordinary houses and work in Ordinary Jobs.  That is why they are so hard to catch.  A Real Witch hates children with a red-hot sizzling hatred that is more sizzling and red-hot than any hatred you could possibly imagine.\"\n",
    "p2 = \"Round about the caldron go; In the poison'd entrails throw.  Toad, that under cold stone, Days and nights has thirty-one; Swelter'd venom sleeping got, Boil thou first i' the charmed pot!  Double, double toil and trouble; Fire burn, and cauldron bubble.  Fillet of a fenny snake, In the caldron boil and bake; Eye of newt, and toe of frog, Wool of bat, and tongue of dog; Adder's fork, and blind-worm's sting, Lizard's leg, and howlet's wing; For a charm of pow'rful trouble, Like a hell-broth boil and bubble.  Double, double toil and trouble; Fire burn, and cauldron bubble.  Scale of dragon, tooth of wolf, Witches' mummy, maw and gulf Of the ravin'd salt-sea shark; Root of hemlock digg'd i' the dark.\"\n",
    "\n",
    "distancia2(p1,p2)"
   ]
  },
  {
   "cell_type": "markdown",
   "metadata": {},
   "source": [
    "<strong> Caso de entrada 2 </strong>"
   ]
  },
  {
   "cell_type": "code",
   "execution_count": 58,
   "metadata": {
    "collapsed": false
   },
   "outputs": [
    {
     "data": {
      "text/plain": [
       "1823.0"
      ]
     },
     "execution_count": 58,
     "metadata": {},
     "output_type": "execute_result"
    }
   ],
   "source": [
    "r1 = \"Macavity, Macavity, there's no one like Macavity, He's broken every  human law, he breaks the law of gravity.  His powers of levitation  would make a fakir stare, And when you reach the scene of crime -  Macavity's not there!  You may seek him in the basement, you may look  up in the air - But I tell you once and once again, Macavity's not there!  Macavity's a ginger cat, he's very tall and thin; You would know him if you saw him, for his eyes are sunken in.  His brow is deeply lined with thought, his head is highly domed; His coat is dusty from neglect, his whiskers are uncombed.  He sways his head from side to side, with movements like a snake; And when you think he's half asleep, he's always wide awake.\"\n",
    "r2 = \"`Please would you tell me,' said Alice, a little timidly, for she was not quite sure whether it was good manners for her to speak first, `why your cat grins like that?' `It's a Cheshire cat,' said the Duchess, `and that's why. Pig!'  She said the last word with such sudden violence that Alice quite jumped; but she saw in another moment that it was addressed to the baby, and not to her, so she took courage, and went on again:  `I didn't know that Cheshire cats always grinned; in fact, I didn't know that cats could grin.'  `They all can,' said the Duchess; `and most of 'em do.'  `I don't know of any that do,' Alice said very politely, feeling quite pleased to have got into a conversation.\"\n",
    "\n",
    "distancia2(r1,r2)\n"
   ]
  },
  {
   "cell_type": "markdown",
   "metadata": {},
   "source": [
    "<strong> Caso de entrada 3 </strong>"
   ]
  },
  {
   "cell_type": "code",
   "execution_count": 67,
   "metadata": {
    "collapsed": false
   },
   "outputs": [
    {
     "data": {
      "text/plain": [
       "1767.0"
      ]
     },
     "execution_count": 67,
     "metadata": {},
     "output_type": "execute_result"
    }
   ],
   "source": [
    "s1 = \"Old MacDonald had a farm, Ee i ee i o.  And on his farm he had some chicks, Ee i ee i o.  With a cluck-cluck here and a cluck-cluck there.  Here a cluck, there a cluck everywhere a cluck-cluck. Old MacDonald had a farm, Ee i ee i o.  Old MacDonald had a farm, Ee i ee i o.  And on his farm he had some cows, Ee i ee i o.  With a moo-moo here and a moo-moo there.  Here a moo, there a moo everywhere a moo-moo.  Old MacDonald had a farm, Ee i ee i o.\"\n",
    "s2 = \"At one end of the big barn, on a sort of raised platform, Major was already ensconced on his bed of straw, under a lantern which hung from a beam. He was twelve years old and had lately grown rather stout, but he was still a majestic-looking pig, with a wise and benevolent appearance in spite of the fact that his tushes had never been cut.  Before long the other animals began to arrive and make themselves comfortable after their different fashions.  First came the three dogs, Bluebell, Jessie, and Pincher, and then the pigs, who settled down in the straw immediately in front of the platform.  The hens perched themselves on the window-sills, the pigeons fluttered up to the rafters, the sheep and cows lay down behind the pigs and began to chew the cud.\"\n",
    "\n",
    "distancia2(s1,s2)"
   ]
  },
  {
   "cell_type": "code",
   "execution_count": null,
   "metadata": {
    "collapsed": true
   },
   "outputs": [],
   "source": []
  }
 ],
 "metadata": {
  "anaconda-cloud": {},
  "kernelspec": {
   "display_name": "Python [conda root]",
   "language": "python",
   "name": "conda-root-py"
  },
  "language_info": {
   "codemirror_mode": {
    "name": "ipython",
    "version": 2
   },
   "file_extension": ".py",
   "mimetype": "text/x-python",
   "name": "python",
   "nbconvert_exporter": "python",
   "pygments_lexer": "ipython2",
   "version": "2.7.12"
  }
 },
 "nbformat": 4,
 "nbformat_minor": 1
}
