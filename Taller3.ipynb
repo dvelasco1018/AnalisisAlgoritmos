{
 "cells": [
  {
   "cell_type": "code",
   "execution_count": 1,
   "metadata": {
    "collapsed": true
   },
   "outputs": [],
   "source": [
    "import math\n",
    "import numpy as np\n",
    "import pylab as pl\n",
    "%matplotlib inline"
   ]
  },
  {
   "cell_type": "code",
   "execution_count": 2,
   "metadata": {
    "collapsed": false,
    "scrolled": true
   },
   "outputs": [
    {
     "name": "stdout",
     "output_type": "stream",
     "text": [
      "[62 27 92 37 21 84 85 76 55 50]\n"
     ]
    }
   ],
   "source": [
    "x = 10\n",
    "arreglo = np.random.randint(2,100,(x))\n",
    "print arreglo"
   ]
  },
  {
   "cell_type": "markdown",
   "metadata": {},
   "source": [
    "<h1> Subsecuencia de Suma Máxima n3 </h1>"
   ]
  },
  {
   "cell_type": "code",
   "execution_count": 3,
   "metadata": {
    "collapsed": false
   },
   "outputs": [],
   "source": [
    "def sub1(arreglo):\n",
    "    tam = len(arreglo)\n",
    "    maximo=0\n",
    "    for i in range(tam):\n",
    "        for j in range(tam-i):\n",
    "            suma=0\n",
    "            k=i\n",
    "            for k in range(j):\n",
    "                suma = suma + arreglo[k+i]\n",
    "            if suma>maximo:\n",
    "                maximo=suma\n",
    "    print maximo"
   ]
  },
  {
   "cell_type": "code",
   "execution_count": 4,
   "metadata": {
    "collapsed": false
   },
   "outputs": [
    {
     "name": "stdout",
     "output_type": "stream",
     "text": [
      "20\n"
     ]
    }
   ],
   "source": [
    "A=[-2,11,-4,13,-5,-2]\n",
    "sub1(A)"
   ]
  },
  {
   "cell_type": "markdown",
   "metadata": {},
   "source": [
    "<h1> Subsecuencia de Suma Máxima Dividir y Conquistar </h1>"
   ]
  },
  {
   "cell_type": "code",
   "execution_count": 20,
   "metadata": {
    "collapsed": false
   },
   "outputs": [],
   "source": [
    "class Aux:\n",
    "    def __init__(self):\n",
    "        self.i = 0\n",
    "        self.j = 0\n",
    "        self.maximo = 0\n",
    "\n",
    "def sub2(arreglo,i,j):\n",
    "    if((j-1)-i <= 1):\n",
    "        j=j-1\n",
    "        a = Aux()\n",
    "        if(arreglo[j]>=0 and arreglo[i] >= 0 and i <> j):\n",
    "            a.i = i\n",
    "            a.j = j\n",
    "            a.maximo = arreglo[i] + arreglo[j]\n",
    "            return a\n",
    "        else:\n",
    "            if(arreglo[j] > arreglo[i]):\n",
    "                a.i=j\n",
    "                a.j=j\n",
    "                a.maximo = arreglo[j]\n",
    "                return a\n",
    "            else:\n",
    "                a.i=i\n",
    "                a.j=i\n",
    "                a.maximo = arreglo[i]\n",
    "                return a\n",
    "    else:\n",
    "        resp1 = Aux()\n",
    "        resp2 = Aux()\n",
    "        tam = j-i\n",
    "        tam = tam / 2\n",
    "        resp1 = sub2(arreglo, i,tam+i)\n",
    "        resp2 = sub2(arreglo,tam+i,j)\n",
    "        vuelta = Aux()\n",
    "        vuelta.i = tam\n",
    "        vuelta.j = tam\n",
    "        vuelta.maximo = -100\n",
    "        suma=0\n",
    "        maxi1=0\n",
    "        for x in range(tam,i,-1):\n",
    "            suma = suma + arreglo[x]\n",
    "            if (suma > maxi1):\n",
    "                vuelta.i=x\n",
    "                maxi1=suma\n",
    "        maxi2=0\n",
    "        suma=0\n",
    "        for x in range(tam+1,j):\n",
    "            suma = suma + arreglo[x]\n",
    "            if (suma > maxi2):\n",
    "                vuelta.j=x\n",
    "                maxi2=suma\n",
    "        if(maxi1+maxi2>0):\n",
    "            vuelta.maximo = maxi1+maxi2\n",
    "                \n",
    "        if(vuelta.maximo >= resp1.maximo and vuelta.maximo >= resp2.maximo):\n",
    "            return vuelta\n",
    "        else:\n",
    "            if(resp1.maximo > resp2.maximo):\n",
    "                return resp1\n",
    "            else:\n",
    "                return resp2\n",
    "        \n"
   ]
  },
  {
   "cell_type": "code",
   "execution_count": 63,
   "metadata": {
    "collapsed": false
   },
   "outputs": [
    {
     "name": "stdout",
     "output_type": "stream",
     "text": [
      "20\n"
     ]
    }
   ],
   "source": [
    "A=[-2,11,-4,13,-5,-2]\n",
    "resp = Aux()\n",
    "resp = sub2(A,0,len(A))\n",
    "print resp.maximo"
   ]
  },
  {
   "cell_type": "code",
   "execution_count": 44,
   "metadata": {
    "collapsed": false
   },
   "outputs": [],
   "source": [
    "import random as rnd\n",
    "import time\n",
    "def exper_analysis(n):\n",
    "    results = []\n",
    "    results.append(0)\n",
    "    results.append(0)\n",
    "    for i in range(2,n):\n",
    "        x = i\n",
    "        arreglo = np.random.randint(-100,100,(x))\n",
    "        #print arreglo\n",
    "        rnd.shuffle(arreglo)\n",
    "        tic = time.clock()\n",
    "        a = sub2(arreglo,0,len(arreglo))\n",
    "        #print \"max \", a.maximo, \" inicio \", a.i, \" fin \",a.j\n",
    "        toc = time.clock()\n",
    "        results.append((toc-tic)*1000000)\n",
    "    return results"
   ]
  },
  {
   "cell_type": "code",
   "execution_count": 49,
   "metadata": {
    "collapsed": false
   },
   "outputs": [
    {
     "data": {
      "text/plain": [
       "[<matplotlib.lines.Line2D at 0x8237d68>]"
      ]
     },
     "execution_count": 49,
     "metadata": {},
     "output_type": "execute_result"
    },
    {
     "data": {
      "image/png": "[encoded data removed]",
      "text/plain": [
       "<matplotlib.figure.Figure at 0x7f3ef98>"
      ]
     },
     "metadata": {},
     "output_type": "display_data"
    }
   ],
   "source": [
    "pl.clf()\n",
    "x = np.arange(1000)\n",
    "y = np.array(exper_analysis(1000))\n",
    "pl.plot(x, y, 'k.')"
   ]
  },
  {
   "cell_type": "markdown",
   "metadata": {},
   "source": [
    "<h1> Algoritmo J.K Bentley,1989</h1>"
   ]
  },
  {
   "cell_type": "code",
   "execution_count": 66,
   "metadata": {
    "collapsed": true
   },
   "outputs": [],
   "source": [
    "def max2(a,b):\n",
    "    if(a>b):\n",
    "        return a\n",
    "    else:\n",
    "        return b\n",
    "\n",
    "def sub3(a,prim,ult):\n",
    "    mitad=0\n",
    "    i=0\n",
    "    max_izq=0\n",
    "    max_der=0\n",
    "    suma=0\n",
    "    max_aux=0\n",
    "    if(prim>ult):\n",
    "        return 0\n",
    "    if(prim==ult):\n",
    "        return max2(0,a[prim-1])\n",
    "    mitad=(prim+ult)/2\n",
    "    max_aux=max2(sub3(a,prim,mitad),sub3(a,mitad+1,ult))\n",
    "    max_izq=0\n",
    "    suma=0\n",
    "    for i in range(mitad,prim,-1):\n",
    "        suma=suma+a[i]\n",
    "        max_izq=max2(max_izq,suma)\n",
    "    max_der=0\n",
    "    suma=0\n",
    "    for i in range(mitad+1,ult):\n",
    "        suma=suma+a[i]\n",
    "        max_der=max2(max_der,suma)\n",
    "    return max2(max_der+max_izq,max_aux)"
   ]
  },
  {
   "cell_type": "code",
   "execution_count": 68,
   "metadata": {
    "collapsed": false
   },
   "outputs": [
    {
     "name": "stdout",
     "output_type": "stream",
     "text": [
      "20\n"
     ]
    }
   ],
   "source": [
    "A=[-2,11,-4,13,-5,-2]\n",
    "print sub3(A,0,len(A))"
   ]
  },
  {
   "cell_type": "code",
   "execution_count": 80,
   "metadata": {
    "collapsed": true
   },
   "outputs": [],
   "source": [
    "import random as rnd\n",
    "import time\n",
    "def exper_analysis2(n):\n",
    "    results = []\n",
    "    results.append(0)\n",
    "    results.append(0)\n",
    "    for i in range(2,n):\n",
    "        x = i\n",
    "        arreglo = np.random.randint(-100,100,(x))\n",
    "        #print arreglo\n",
    "        rnd.shuffle(arreglo)\n",
    "        tic = time.clock()\n",
    "        a = sub3(arreglo,0,len(arreglo))\n",
    "        #print \"max \", a.maximo, \" inicio \", a.i, \" fin \",a.j\n",
    "        toc = time.clock()\n",
    "        results.append((toc-tic)*10000000)\n",
    "    return results"
   ]
  },
  {
   "cell_type": "code",
   "execution_count": 81,
   "metadata": {
    "collapsed": false
   },
   "outputs": [
    {
     "data": {
      "text/plain": [
       "[<matplotlib.lines.Line2D at 0xa1ef710>]"
      ]
     },
     "execution_count": 81,
     "metadata": {},
     "output_type": "execute_result"
    },
    {
     "data": {
      "image/png": "[encoded data removed]",
      "text/plain": [
       "<matplotlib.figure.Figure at 0x9ff3cf8>"
      ]
     },
     "metadata": {},
     "output_type": "display_data"
    }
   ],
   "source": [
    "pl.clf()\n",
    "x = np.arange(1000)\n",
    "y = np.array(exper_analysis2(1000))\n",
    "pl.plot(x, y, 'k.')"
   ]
  },
  {
   "cell_type": "code",
   "execution_count": 83,
   "metadata": {
    "collapsed": false
   },
   "outputs": [
    {
     "data": {
      "text/plain": [
       "[<matplotlib.lines.Line2D at 0xa671cf8>]"
      ]
     },
     "execution_count": 83,
     "metadata": {},
     "output_type": "execute_result"
    },
    {
     "data": {
      "image/png": "[encoded data removed]",
      "text/plain": [
       "<matplotlib.figure.Figure at 0xa488048>"
      ]
     },
     "metadata": {},
     "output_type": "display_data"
    }
   ],
   "source": [
    "pl.clf()\n",
    "x = np.arange(1000)\n",
    "y = np.array(exper_analysis(1000))#Segundo punto\n",
    "pl.plot(x, y, 'k.',color='red')  \n",
    "y = np.array(exper_analysis2(1000)) #Tercer punto\n",
    "pl.plot(x, y, 'k.',color='green') "
   ]
  },
  {
   "cell_type": "code",
   "execution_count": null,
   "metadata": {
    "collapsed": true
   },
   "outputs": [],
   "source": []
  }
 ],
 "metadata": {
  "anaconda-cloud": {},
  "kernelspec": {
   "display_name": "Python [conda root]",
   "language": "python",
   "name": "conda-root-py"
  },
  "language_info": {
   "codemirror_mode": {
    "name": "ipython",
    "version": 2
   },
   "file_extension": ".py",
   "mimetype": "text/x-python",
   "name": "python",
   "nbconvert_exporter": "python",
   "pygments_lexer": "ipython2",
   "version": "2.7.12"
  }
 },
 "nbformat": 4,
 "nbformat_minor": 1
}
