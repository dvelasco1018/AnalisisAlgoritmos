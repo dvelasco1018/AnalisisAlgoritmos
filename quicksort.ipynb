{
 "cells": [
  {
   "cell_type": "markdown",
   "metadata": {},
   "source": [
    "<h1>Análisando algoritmos de ordenamiento</h1>"
   ]
  },
  {
   "cell_type": "code",
   "execution_count": 141,
   "metadata": {
    "collapsed": true
   },
   "outputs": [],
   "source": [
    "import math\n",
    "import numpy as np\n",
    "import pylab as pl\n",
    "%matplotlib inline"
   ]
  },
  {
   "cell_type": "markdown",
   "metadata": {},
   "source": [
    "<h2>Problema de ordenamiento</h2>\n",
    "\n",
    "Input:  $A[1..n] = <a_1,a_2\\ldots, a_n>$\n",
    "\n",
    "Output: $A'[1..n] = <a'_1,a'_2\\ldots, a'_n> : a'_1\\leq a'_2 \\leq \\ldots \\leq  a'_n$"
   ]
  },
  {
   "cell_type": "markdown",
   "metadata": {},
   "source": [
    "<h3> Ordenamiento por quicksort</h3>"
   ]
  },
  {
   "cell_type": "code",
   "execution_count": 142,
   "metadata": {
    "collapsed": false
   },
   "outputs": [],
   "source": [
    "def quicksort(L, first, last):\n",
    "    # definimos los índices y calculamos el pivote\n",
    "    i = first\n",
    "    j = last    \n",
    "    pivote = (L[i] + L[j]) / 2\n",
    "\n",
    "    # iteramos hasta que i no sea menor que j\n",
    "    while i < j:\n",
    "        # iteramos mientras que el valor de L[i] sea menor que pivote\n",
    "        while L[i] < pivote:\n",
    "            # Incrementamos el índice\n",
    "            i+=1\n",
    "        # iteramos mientras que el valor de L[j] sea mayor que pivote\n",
    "        while L[j] > pivote:\n",
    "            # decrementamos el índice\n",
    "            j-=1\n",
    "        # si i es menor o igual que j significa que los índices se han cruzado\n",
    "        if i <= j:\n",
    "            # creamos una variable temporal para guardar el valor de L[j]\n",
    "            x = L[j]\n",
    "            # intercambiamos los valores de L[j] y L[i]\n",
    "            L[j] = L[i]\n",
    "            L[i] = x\n",
    "            # incrementamos y decrementamos i y j respectivamente\n",
    "            i+=1\n",
    "            j-=1\n",
    "\n",
    "    # si first es menor que j mantenemos la recursividad\n",
    "    if first < j:\n",
    "        L = quicksort(L, first, j)\n",
    "    # si last es mayor que i mantenemos la recursividad\n",
    "    if last > i:\n",
    "        L = quicksort(L, i, last)\n",
    "\n",
    "    # devolvemos la lista ordenada\n",
    "    return L"
   ]
  },
  {
   "cell_type": "code",
   "execution_count": 143,
   "metadata": {
    "collapsed": false
   },
   "outputs": [
    {
     "name": "stdout",
     "output_type": "stream",
     "text": [
      "[6, 2, 0, 3, 9, 4, 1, 8, 5, 7]\n",
      "[0, 1, 2, 3, 4, 5, 6, 7, 8, 9]\n"
     ]
    }
   ],
   "source": [
    "B = np.random.permutation(range(0,10))\n",
    "C = list(B)\n",
    "print C\n",
    "quicksort(C,0,len(C)-1)\n",
    "print C"
   ]
  },
  {
   "cell_type": "markdown",
   "metadata": {},
   "source": [
    "<h4>Correctitud</h4>\n",
    "\n",
    "<b>Invariante:</b> Al final de cada llamado a la función, los valores en el arreglo anteriores al pivote tienen numeros menores y los siguientes tien numeros mayores."
   ]
  },
  {
   "cell_type": "code",
   "execution_count": 144,
   "metadata": {
    "collapsed": false
   },
   "outputs": [],
   "source": [
    "def invariant(G, piv,first,last):\n",
    "    L = list(G)\n",
    "    pivote = piv\n",
    "    print \"Lista\", L\n",
    "    print \"Pivote \", pivote\n",
    "    print \"first \", first, \"last \",last\n",
    "    i = first\n",
    "    j = last\n",
    "    cont = 0\n",
    "    while L[i] <= pivote and i < last:\n",
    "        i+= 1\n",
    "        cont=cont + 1\n",
    "    while L[j] >= pivote and j > first:\n",
    "        j-=1\n",
    "        cont= cont + 1\n",
    "        \n",
    "    lon = last - first + 1\n",
    "    return (cont - lon) < 2 or (lon - cont < 2)"
   ]
  },
  {
   "cell_type": "code",
   "execution_count": 145,
   "metadata": {
    "collapsed": false
   },
   "outputs": [
    {
     "name": "stdout",
     "output_type": "stream",
     "text": [
      "Lista [1, 2, 3, 4]\n",
      "Pivote  2.5\n",
      "first  0 last  3\n",
      "True\n",
      "Lista [1, 2, 3, 1]\n",
      "Pivote  2.5\n",
      "first  0 last  3\n",
      "True\n"
     ]
    }
   ],
   "source": [
    "print invariant([1, 2, 3, 4], 2.5,0,3)\n",
    "print invariant([1, 2, 3, 1], 2.5,0,3)"
   ]
  },
  {
   "cell_type": "markdown",
   "metadata": {},
   "source": [
    "Algoritmo de ordenamiento por merge sort incluyendo evaluación de la invariante (inicialización, mantenimiento, terminación)"
   ]
  },
  {
   "cell_type": "code",
   "execution_count": 146,
   "metadata": {
    "collapsed": false
   },
   "outputs": [],
   "source": [
    "def right_quicksort(L, first, last):\n",
    "    original_A = L\n",
    "    try:\n",
    "        i = first\n",
    "        j = last    \n",
    "        pivote = (L[i] + L[j]) / 2\n",
    "        while i < j:\n",
    "            while L[i] < pivote:\n",
    "                i+=1\n",
    "            while L[j] > pivote:\n",
    "                j-=1\n",
    "            if i <= j:\n",
    "                x = L[j]\n",
    "                L[j] = L[i]\n",
    "                L[i] = x\n",
    "                i+=1\n",
    "                j-=1\n",
    "        \n",
    "        #res = pivote.fetchone()\n",
    "        if len(L)>=2: #and res:      \n",
    "            assert invariant(L,pivote,first,last)\n",
    "        \n",
    "        if first < j:       \n",
    "            L = right_quicksort(L, first, j)\n",
    "        if last > i:\n",
    "            L = right_quicksort(L, i, last)\n",
    "        return L\n",
    "    except  AssertionError:\n",
    "        print \"Error en el invariante de ciclo!\"\n",
    "        print \"Original A=\", original_A\n",
    "        print \"otro\", L"
   ]
  },
  {
   "cell_type": "code",
   "execution_count": 147,
   "metadata": {
    "collapsed": false
   },
   "outputs": [
    {
     "name": "stdout",
     "output_type": "stream",
     "text": [
      "[5, 4, 6, 3, 7, 2, 8, 1, 9]\n",
      "Lista [5, 4, 6, 3, 1, 2, 8, 7, 9]\n",
      "Pivote  7\n",
      "first  0 last  8\n",
      "Lista [2, 1, 3, 6, 4, 5, 8, 7, 9]\n",
      "Pivote  3\n",
      "first  0 last  5\n",
      "Lista [1, 2, 3, 6, 4, 5, 8, 7, 9]\n",
      "Pivote  2\n",
      "first  0 last  2\n",
      "Lista [1, 2, 3, 6, 4, 5, 8, 7, 9]\n",
      "Pivote  2\n",
      "first  1 last  2\n",
      "Lista [1, 2, 3, 5, 4, 6, 8, 7, 9]\n",
      "Pivote  5\n",
      "first  3 last  5\n",
      "Lista [1, 2, 3, 4, 5, 6, 8, 7, 9]\n",
      "Pivote  4\n",
      "first  3 last  4\n",
      "Lista [1, 2, 3, 4, 5, 6, 8, 7, 9]\n",
      "Pivote  5\n",
      "first  4 last  5\n",
      "Lista [1, 2, 3, 4, 5, 6, 7, 8, 9]\n",
      "Pivote  8\n",
      "first  6 last  8\n",
      "Lista [1, 2, 3, 4, 5, 6, 7, 8, 9]\n",
      "Pivote  8\n",
      "first  7 last  8\n",
      "[1, 2, 3, 4, 5, 6, 7, 8, 9]\n"
     ]
    }
   ],
   "source": [
    "B = [5, 4, 6, 3, 7, 2, 8, 1, 9]\n",
    "C = list(B)\n",
    "print C\n",
    "right_quicksort(C,0,len(C)-1)\n",
    "print C"
   ]
  },
  {
   "cell_type": "markdown",
   "metadata": {},
   "source": [
    "<h4> Análisis del tiempo de ejecución</h4>"
   ]
  },
  {
   "cell_type": "code",
   "execution_count": 148,
   "metadata": {
    "collapsed": true
   },
   "outputs": [],
   "source": [
    "class Counter:\n",
    "    '''\n",
    "    Class Counter\n",
    "    Implements a step counter, which is used to compute the number of basic operations performed in\n",
    "    a particular call to a function.\n",
    "    '''\n",
    "    def __init__(self):\n",
    "        self.steps = 0\n",
    "\n",
    "    def reset(self):\n",
    "        self.steps = 0\n",
    "\n",
    "    def count(self):\n",
    "        self.steps += 1\n",
    "\n",
    "    def print_steps(self):\n",
    "        print \"Number of steps =\", self.steps\n",
    "\n",
    "        \n",
    "def acct_quicksort(L, first, last, acct):\n",
    "    i = first;acct.count()\n",
    "    j = last;acct.count()     \n",
    "    pivote = (L[i] + L[j]) / 2;acct.count()\n",
    "\n",
    "    while i < j:\n",
    "        acct.count()\n",
    "        while L[i] < pivote:\n",
    "            acct.count()\n",
    "            i+=1;acct.count()\n",
    "        while L[j] > pivote:\n",
    "            acct.count()\n",
    "            j-=1;acct.count()\n",
    "        if i <= j:\n",
    "            acct.count()\n",
    "            x = L[j];acct.count()\n",
    "            L[j] = L[i];acct.count()\n",
    "            L[i] = x;acct.count()\n",
    "            i+=1;acct.count()\n",
    "            j-=1;acct.count()\n",
    "            \n",
    "    if first < j:    \n",
    "        acct.count()\n",
    "        L = acct_quicksort(L, first, j,acct);acct.count()\n",
    "    if last > i:\n",
    "        acct.count()\n",
    "        L = acct_quicksort(L, i, last,acct);acct.count()\n",
    "    return L"
   ]
  },
  {
   "cell_type": "code",
   "execution_count": 149,
   "metadata": {
    "collapsed": false
   },
   "outputs": [
    {
     "name": "stdout",
     "output_type": "stream",
     "text": [
      "[3, 8, 6, 5, 2, 9, 7, 0, 4, 1]\n",
      "Number of steps = 175\n"
     ]
    }
   ],
   "source": [
    "B = np.random.permutation(range(0,10))\n",
    "C = list(B)\n",
    "print C\n",
    "acct = Counter()\n",
    "acct_quicksort(C,0,len(C)-1, acct)\n",
    "acct.print_steps()"
   ]
  },
  {
   "cell_type": "markdown",
   "metadata": {},
   "source": [
    "<h4>Análisis experimental</h4>\n",
    "Ahora vamos a analizar el comportamiento del algoritmo cuando el tamaño de la entrada varía. La siguiente función genera arreglos al azar de tamaño 1 a n, llama la función acct_insertion_sort(l, acct) y contabiliza el número de pasos."
   ]
  },
  {
   "cell_type": "code",
   "execution_count": 150,
   "metadata": {
    "collapsed": true
   },
   "outputs": [],
   "source": [
    "import random as rnd\n",
    "\n",
    "def exper_analysis(n):\n",
    "    results = []\n",
    "    acct = Counter()\n",
    "    for i in range(n):\n",
    "        l=0\n",
    "        if i>0 :\n",
    "            l = range(i)\n",
    "            rnd.shuffle(l)\n",
    "            C =list(l)\n",
    "            acct.reset()\n",
    "            acct_quicksort(C,0,len(C)-1, acct)\n",
    "        results.append(acct.steps)\n",
    "    return results"
   ]
  },
  {
   "cell_type": "code",
   "execution_count": 151,
   "metadata": {
    "collapsed": false
   },
   "outputs": [
    {
     "name": "stdout",
     "output_type": "stream",
     "text": [
      "[0, 3, 12, 32, 40, 71, 77, 99, 111, 146, 170, 189, 219, 251, 244, 254, 284, 337, 372, 386]\n"
     ]
    }
   ],
   "source": [
    "print exper_analysis(20)"
   ]
  },
  {
   "cell_type": "code",
   "execution_count": 152,
   "metadata": {
    "collapsed": false
   },
   "outputs": [
    {
     "data": {
      "text/plain": [
       "[<matplotlib.lines.Line2D at 0xd313588>]"
      ]
     },
     "execution_count": 152,
     "metadata": {},
     "output_type": "execute_result"
    },
    {
     "data": {
      "image/png": "[encoded data removed]",
      "text/plain": [
       "<matplotlib.figure.Figure at 0x7b7d630>"
      ]
     },
     "metadata": {},
     "output_type": "display_data"
    }
   ],
   "source": [
    "pl.clf()\n",
    "x = np.arange(500)\n",
    "y = np.array(exper_analysis(500))\n",
    "pl.plot(x, y, 'k.')"
   ]
  },
  {
   "cell_type": "markdown",
   "metadata": {},
   "source": [
    "<p>Tiempo de ejecucion</p>"
   ]
  },
  {
   "cell_type": "code",
   "execution_count": 153,
   "metadata": {
    "collapsed": true
   },
   "outputs": [],
   "source": [
    "import random as rnd\n",
    "import time\n",
    "def exper_analysis2(n):\n",
    "    results = []\n",
    "    for i in range(n):\n",
    "        tiqui = 0\n",
    "        if i > 0 :\n",
    "            l = range(i)\n",
    "            rnd.shuffle(l)\n",
    "            C =list(l)\n",
    "            tic = time.clock()\n",
    "            quicksort(C,0,len(C)-1)\n",
    "            toc = time.clock()\n",
    "            tiqui = (toc-tic)*3000000\n",
    "        results.append(tiqui)\n",
    "    return results\n"
   ]
  },
  {
   "cell_type": "code",
   "execution_count": 154,
   "metadata": {
    "collapsed": false
   },
   "outputs": [
    {
     "name": "stdout",
     "output_type": "stream",
     "text": [
      "[0, 7.945741344883572, 5.959305326541653, 11.918612017325358, 12.911829344375292, 13.905048035667278, 23.837224034650717, 23.837222670408664, 24.830439997458598, 27.810094707092503]\n"
     ]
    }
   ],
   "source": [
    "print exper_analysis2(10)"
   ]
  },
  {
   "cell_type": "code",
   "execution_count": 165,
   "metadata": {
    "collapsed": false,
    "scrolled": true
   },
   "outputs": [
    {
     "data": {
      "text/plain": [
       "[<matplotlib.lines.Line2D at 0xe16f7b8>]"
      ]
     },
     "execution_count": 165,
     "metadata": {},
     "output_type": "execute_result"
    },
    {
     "data": {
      "image/png": "[encoded data removed]",
      "text/plain": [
       "<matplotlib.figure.Figure at 0xe131208>"
      ]
     },
     "metadata": {},
     "output_type": "display_data"
    }
   ],
   "source": [
    "pl.clf()\n",
    "x = np.arange(300)\n",
    "y = np.array(exper_analysis2(300))\n",
    "pl.plot(x, y, 'k.')"
   ]
  },
  {
   "cell_type": "markdown",
   "metadata": {},
   "source": [
    "<p>Tiempo de teorico</p>"
   ]
  },
  {
   "cell_type": "code",
   "execution_count": 156,
   "metadata": {
    "collapsed": false
   },
   "outputs": [],
   "source": [
    "def exper_analysis3(n):\n",
    "    results = []\n",
    "    acct = Counter()\n",
    "    for i in range(n):\n",
    "        l=0\n",
    "        if i > 1:\n",
    "            l = i * i\n",
    "        results.append(l)\n",
    "    return results"
   ]
  },
  {
   "cell_type": "code",
   "execution_count": 157,
   "metadata": {
    "collapsed": false
   },
   "outputs": [
    {
     "name": "stdout",
     "output_type": "stream",
     "text": [
      "[0, 0, 4, 9, 16, 25, 36, 49, 64, 81, 100, 121, 144, 169, 196, 225, 256, 289, 324, 361]\n"
     ]
    }
   ],
   "source": [
    "print exper_analysis3(20)"
   ]
  },
  {
   "cell_type": "code",
   "execution_count": 158,
   "metadata": {
    "collapsed": false,
    "scrolled": false
   },
   "outputs": [
    {
     "data": {
      "text/plain": [
       "[<matplotlib.lines.Line2D at 0xd677748>]"
      ]
     },
     "execution_count": 158,
     "metadata": {},
     "output_type": "execute_result"
    },
    {
     "data": {
      "image/png": "[encoded data removed]",
      "text/plain": [
       "<matplotlib.figure.Figure at 0xd5b4898>"
      ]
     },
     "metadata": {},
     "output_type": "display_data"
    }
   ],
   "source": [
    "pl.clf()\n",
    "x = np.arange(200)\n",
    "y = np.array(exper_analysis3(200))\n",
    "pl.plot(x, y, 'k.')"
   ]
  },
  {
   "cell_type": "markdown",
   "metadata": {},
   "source": [
    "<H2>Numero de operaciones, tiempo de ejecucion y tiempo teórico</H2>"
   ]
  },
  {
   "cell_type": "code",
   "execution_count": 159,
   "metadata": {
    "collapsed": false
   },
   "outputs": [
    {
     "data": {
      "text/plain": [
       "[<matplotlib.lines.Line2D at 0xd87ce48>]"
      ]
     },
     "execution_count": 159,
     "metadata": {},
     "output_type": "execute_result"
    },
    {
     "data": {
      "image/png": "[encoded data removed]",
      "text/plain": [
       "<matplotlib.figure.Figure at 0xd73d668>"
      ]
     },
     "metadata": {},
     "output_type": "display_data"
    }
   ],
   "source": [
    "pl.clf()\n",
    "x = np.arange(100)\n",
    "y = np.array(exper_analysis(100))\n",
    "pl.plot(x, y, 'k.',color='red')  #De color rojo el número de operaciones\n",
    "y = np.array(exper_analysis2(100))\n",
    "pl.plot(x, y, 'k.',color='green') #En verde el tiempo de ejecución multiplicado por 3'000.000\n",
    "y = np.array(exper_analysis3(100))\n",
    "pl.plot(x, y, 'k.',color='blue') #En azul T(n)"
   ]
  }
 ],
 "metadata": {
  "anaconda-cloud": {},
  "kernelspec": {
   "display_name": "Python [default]",
   "language": "python",
   "name": "python2"
  },
  "language_info": {
   "codemirror_mode": {
    "name": "ipython",
    "version": 2
   },
   "file_extension": ".py",
   "mimetype": "text/x-python",
   "name": "python",
   "nbconvert_exporter": "python",
   "pygments_lexer": "ipython2",
   "version": "2.7.12"
  }
 },
 "nbformat": 4,
 "nbformat_minor": 0
}
