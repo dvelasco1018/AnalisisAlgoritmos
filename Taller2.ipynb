{
 "cells": [
  {
   "cell_type": "markdown",
   "metadata": {},
   "source": [
    "<h1> Multiplicación de Matrices </h1>"
   ]
  },
  {
   "cell_type": "code",
   "execution_count": 4,
   "metadata": {
    "collapsed": true
   },
   "outputs": [],
   "source": [
    "import math\n",
    "import numpy as np\n",
    "import pylab as pl\n",
    "%matplotlib inline"
   ]
  },
  {
   "cell_type": "code",
   "execution_count": 5,
   "metadata": {
    "collapsed": false
   },
   "outputs": [
    {
     "name": "stdout",
     "output_type": "stream",
     "text": [
      "[[86 14 76  7 23 29 94  8 30 27]\n",
      " [36 60 48 98 60 28 87  5 15 75]\n",
      " [13 57 37 37 56 34 92 23 19  8]\n",
      " [12 51 85 83 97 47 21 14 73 15]\n",
      " [ 9 33 19 91 73 21 36 37 93 98]\n",
      " [33  9 45 17 98 59 16 53 97 59]\n",
      " [84 10 27 50  7 11 36 68 43 82]\n",
      " [62 43  2 67  5 80 24 61 35 82]\n",
      " [99 13  8 41 88 33 22 51 39 14]\n",
      " [13 48 29 27 54  3 94 87 25 13]]\n"
     ]
    }
   ],
   "source": [
    "x = 10\n",
    "matriz1 = np.random.randint(2,100,(x,x))\n",
    "matriz2 = np.random.randint(2,100,(x,x))\n",
    "print matriz1"
   ]
  },
  {
   "cell_type": "markdown",
   "metadata": {},
   "source": [
    "<h2> Primera multiplicación c_{ij} = \\sum_{k=1}^n a_{ik}*b_{kj} </h2>"
   ]
  },
  {
   "cell_type": "code",
   "execution_count": 6,
   "metadata": {
    "collapsed": false
   },
   "outputs": [],
   "source": [
    "def mult1(mat1,mat2, x):\n",
    "    mat3 = np.zeros((x,x))\n",
    "    for i in range(x):\n",
    "        for j in range(x):\n",
    "            for k in range(x):\n",
    "                mat3[i][j] = mat3[i][j] + (mat1[i][k]*mat2[k][j])\n",
    "    return mat3"
   ]
  },
  {
   "cell_type": "code",
   "execution_count": 8,
   "metadata": {
    "collapsed": false
   },
   "outputs": [
    {
     "data": {
      "text/plain": [
       "array([[ 1021.,  1480.,  1785.],\n",
       "       [ 1237.,  2238.,  2301.],\n",
       "       [  920.,  1142.,  1560.]])"
      ]
     },
     "execution_count": 8,
     "metadata": {},
     "output_type": "execute_result"
    }
   ],
   "source": [
    "x = 3\n",
    "matriz1 = np.random.randint(0,50,(x,x))\n",
    "matriz2 = np.random.randint(0,50,(x,x))\n",
    "mult1(matriz1,matriz2,x)"
   ]
  },
  {
   "cell_type": "code",
   "execution_count": 132,
   "metadata": {
    "collapsed": true
   },
   "outputs": [],
   "source": [
    "class Counter:\n",
    "    '''\n",
    "    Class Counter\n",
    "    Implements a step counter, which is used to compute the number of basic operations performed in\n",
    "    a particular call to a function.\n",
    "    '''\n",
    "    def __init__(self):\n",
    "        self.steps = 0\n",
    "\n",
    "    def reset(self):\n",
    "        self.steps = 0\n",
    "\n",
    "    def count(self):\n",
    "        self.steps += 1\n",
    "\n",
    "    def print_steps(self):\n",
    "        print \"Number of steps =\", self.steps\n",
    "        \n",
    "def cont_mult1(mat1,mat2, x,acct):\n",
    "    mat3 = np.zeros((x,x))\n",
    "    acct.count()\n",
    "    for i in range(x):\n",
    "        acct.count()\n",
    "        for j in range(x):\n",
    "            acct.count()\n",
    "            for k in range(x):\n",
    "                acct.count()\n",
    "                mat3[i][j] = mat3[i][j] + (mat1[i][k]*mat2[k][j]);acct.count();acct.count()\n",
    "    return mat3"
   ]
  },
  {
   "cell_type": "code",
   "execution_count": 133,
   "metadata": {
    "collapsed": false
   },
   "outputs": [
    {
     "name": "stdout",
     "output_type": "stream",
     "text": [
      "Number of steps = 406\n"
     ]
    }
   ],
   "source": [
    "x = 5\n",
    "matriz1 = np.random.randint(0,50,(x,x))\n",
    "matriz2 = np.random.randint(0,50,(x,x))\n",
    "acct = Counter()\n",
    "cont_mult1(matriz1,matriz2,x,acct)\n",
    "acct.print_steps()"
   ]
  },
  {
   "cell_type": "code",
   "execution_count": 134,
   "metadata": {
    "collapsed": true
   },
   "outputs": [],
   "source": [
    "def exper_analysis(n):\n",
    "    results = []\n",
    "    acct = Counter()\n",
    "    for i in range(n):\n",
    "        matriz1 = np.random.randint(0,50,(i,i))\n",
    "        matriz2 = np.random.randint(0,50,(i,i))\n",
    "        acct.reset()\n",
    "        cont_mult1(matriz1,matriz2,i,acct)\n",
    "        results.append(acct.steps)\n",
    "    print results\n",
    "    return results"
   ]
  },
  {
   "cell_type": "code",
   "execution_count": 135,
   "metadata": {
    "collapsed": false
   },
   "outputs": [
    {
     "name": "stdout",
     "output_type": "stream",
     "text": [
      "[1, 6, 31, 94, 213, 406, 691, 1086, 1609, 2278, 3111, 4126, 5341, 6774, 8443]\n",
      "[1, 6, 31, 94, 213, 406, 691, 1086, 1609, 2278, 3111, 4126, 5341, 6774, 8443]\n"
     ]
    }
   ],
   "source": [
    "print exper_analysis(15)"
   ]
  },
  {
   "cell_type": "code",
   "execution_count": 136,
   "metadata": {
    "collapsed": false
   },
   "outputs": [
    {
     "name": "stdout",
     "output_type": "stream",
     "text": [
      "[1, 6, 31, 94, 213, 406, 691, 1086, 1609, 2278, 3111, 4126, 5341, 6774, 8443, 10366, 12561, 15046, 17839, 20958, 24421, 28246, 32451, 37054, 42073, 47526, 53431, 59806, 66669, 74038]\n"
     ]
    },
    {
     "data": {
      "text/plain": [
       "[<matplotlib.lines.Line2D at 0x86d16d8>]"
      ]
     },
     "execution_count": 136,
     "metadata": {},
     "output_type": "execute_result"
    },
    {
     "data": {
      "image/png": "[encoded data removed]",
      "text/plain": [
       "<matplotlib.figure.Figure at 0x82674a8>"
      ]
     },
     "metadata": {},
     "output_type": "display_data"
    }
   ],
   "source": [
    "pl.clf()\n",
    "x = np.arange(30)\n",
    "y = np.array(exper_analysis(30))\n",
    "pl.plot(x, y, 'k.')"
   ]
  },
  {
   "cell_type": "markdown",
   "metadata": {},
   "source": [
    "<h2>Dividir y Conquistar</h2>"
   ]
  },
  {
   "cell_type": "code",
   "execution_count": 51,
   "metadata": {
    "collapsed": true
   },
   "outputs": [],
   "source": [
    "def suma(matA,matB):\n",
    "    x = len(matA)\n",
    "    matC = np.zeros((x,x))\n",
    "    for i in range(x):\n",
    "        for j in range(x):\n",
    "            matC[i][j] = matA[i][j] + matB[i][j]\n",
    "    return matC\n",
    "            "
   ]
  },
  {
   "cell_type": "code",
   "execution_count": 71,
   "metadata": {
    "collapsed": false
   },
   "outputs": [],
   "source": [
    "def mult2(matrixA, matrixB):\n",
    "    bandera=0\n",
    "    if (len(matrixA) <= 2):\n",
    "         return mult1(matrixA,matrixB, len(matrixA))\n",
    "    else :\n",
    "        tama=len(matrixA)\n",
    "        if(tama%2!=0):\n",
    "            m = np.zeros((tama, 1))\n",
    "            n = np.zeros((1, tama+1))\n",
    "            matrixA = np.c_[matrixA,m]\n",
    "            matrixA = np.r_[matrixA,n]\n",
    "            matrixB = np.c_[matrixB,m]\n",
    "            matrixB = np.r_[matrixB,n]\n",
    "            tama=tama+1    \n",
    "            bandera=1 \n",
    "        tama= (tama)/2\n",
    "        a11=matrixA[:tama,:tama]\n",
    "        a12=matrixA[:tama,tama:]\n",
    "        a21=matrixA[tama:,:tama]\n",
    "        a22=matrixA[tama:,tama:]\n",
    "        b11=matrixB[:tama,:tama]\n",
    "        b12=matrixB[:tama,tama:]\n",
    "        b21=matrixB[tama:,:tama]\n",
    "        b22=matrixB[tama:,tama:]\n",
    "        \n",
    "    c11a = mult2(a11,b11)\n",
    "    c11b = mult2(a12,b21)\n",
    "    c12a = mult2(a11,b12)\n",
    "    c12b = mult2(a12,b22)\n",
    "    c21a = mult2(a21,b11)\n",
    "    c21b = mult2(a22,b21)\n",
    "    c22a = mult2(a21,b12)\n",
    "    c22b = mult2(a22,b22)\n",
    "\n",
    "    c11 = suma(c11a,c11b)\n",
    "    c12 = suma(c12a,c12b)\n",
    "    c21 = suma(c21a,c21b)\n",
    "    c22 = suma(c22a,c22b)\n",
    "\n",
    "    c11 = np.c_[c11,c12]\n",
    "    c21 = np.c_[c21,c22]\n",
    "    c11 = np.r_[c11,c21]\n",
    "    if bandera==1:\n",
    "        ta=len(c11)\n",
    "        c11 = c11[:ta-1,:ta-1]\n",
    "    return c11\n",
    "            \n"
   ]
  },
  {
   "cell_type": "code",
   "execution_count": 91,
   "metadata": {
    "collapsed": false
   },
   "outputs": [
    {
     "name": "stdout",
     "output_type": "stream",
     "text": [
      "[[ 5703.  4759.  2719.  5092.  2858.  5267.]\n",
      " [ 3553.  3225.  2676.  2213.  1505.  3867.]\n",
      " [ 5225.  3564.  3612.  3749.  2459.  5125.]\n",
      " [ 5430.  3699.  2394.  5098.  3265.  3899.]\n",
      " [ 8272.  5533.  3992.  7567.  4697.  6665.]\n",
      " [ 4738.  3440.  2874.  3731.  2884.  3956.]]\n"
     ]
    }
   ],
   "source": [
    "x = 6\n",
    "matriz1 = np.random.randint(0,50,(x,x))\n",
    "matriz2 = np.random.randint(0,50,(x,x))\n",
    "print mult2(matriz1,matriz2)"
   ]
  },
  {
   "cell_type": "code",
   "execution_count": 82,
   "metadata": {
    "collapsed": true
   },
   "outputs": [],
   "source": [
    "def cont_suma(matA,matB,acct):\n",
    "    x = len(matA);acct.count()\n",
    "    matC = np.zeros((x,x));acct.count()\n",
    "    for i in range(x):\n",
    "        acct.count()\n",
    "        for j in range(x):\n",
    "            acct.count()\n",
    "            matC[i][j] = matA[i][j] + matB[i][j];acct.count()\n",
    "    return matC"
   ]
  },
  {
   "cell_type": "code",
   "execution_count": 163,
   "metadata": {
    "collapsed": false
   },
   "outputs": [],
   "source": [
    "def cont_mult2(matrixA, matrixB,acct):\n",
    "    bandera=0;acct.count()\n",
    "    if (len(matrixA) <= 2):\n",
    "         return cont_mult1(matrixA,matrixB, len(matrixA),acct)\n",
    "    else :\n",
    "        acct.count()\n",
    "        tama=len(matrixA);acct.count()\n",
    "        if(tama%2!=0):\n",
    "            acct.count()\n",
    "            m = np.zeros((tama, 1));acct.count()\n",
    "            n = np.zeros((1, tama+1));acct.count()\n",
    "            matrixA = np.c_[matrixA,m];acct.count()\n",
    "            matrixA = np.r_[matrixA,n];acct.count()\n",
    "            matrixB = np.c_[matrixB,m];acct.count()\n",
    "            matrixB = np.r_[matrixB,n];acct.count()\n",
    "            tama=tama+1;acct.count()\n",
    "            bandera=1 ;acct.count()\n",
    "        tama= (tama)/2;acct.count()\n",
    "        a11=matrixA[:tama,:tama];acct.count()\n",
    "        a12=matrixA[:tama,tama:];acct.count()\n",
    "        a21=matrixA[tama:,:tama];acct.count()\n",
    "        a22=matrixA[tama:,tama:];acct.count()\n",
    "        b11=matrixB[:tama,:tama];acct.count()\n",
    "        b12=matrixB[:tama,tama:];acct.count()\n",
    "        b21=matrixB[tama:,:tama];acct.count()\n",
    "        b22=matrixB[tama:,tama:];acct.count()\n",
    "        \n",
    "    c11a = cont_mult2(a11,b11,acct);acct.count()\n",
    "    c11b = cont_mult2(a12,b21,acct);acct.count()\n",
    "    c12a = cont_mult2(a11,b12,acct);acct.count()\n",
    "    c12b = cont_mult2(a12,b22,acct);acct.count()\n",
    "    c21a = cont_mult2(a21,b11,acct);acct.count()\n",
    "    c21b = cont_mult2(a22,b21,acct);acct.count()\n",
    "    c22a = cont_mult2(a21,b12,acct);acct.count()\n",
    "    c22b = cont_mult2(a22,b22,acct);acct.count()\n",
    "\n",
    "    c11 = cont_suma(c11a,c11b,acct);acct.count()\n",
    "    c12 = cont_suma(c12a,c12b,acct);acct.count()\n",
    "    c21 = cont_suma(c21a,c21b,acct);acct.count()\n",
    "    c22 = cont_suma(c22a,c22b,acct);acct.count()\n",
    "\n",
    "    c11 = np.c_[c11,c12];acct.count()\n",
    "    c21 = np.c_[c21,c22];acct.count()\n",
    "    c11 = np.r_[c11,c21];acct.count()\n",
    "    if bandera==1:\n",
    "        acct.count()\n",
    "        ta=len(c11);acct.count()\n",
    "        c11 = c11[:ta-1,:ta-1];acct.count()\n",
    "    return c11"
   ]
  },
  {
   "cell_type": "code",
   "execution_count": 164,
   "metadata": {
    "collapsed": false
   },
   "outputs": [
    {
     "name": "stdout",
     "output_type": "stream",
     "text": [
      "Number of steps = 23207\n"
     ]
    }
   ],
   "source": [
    "x = 15\n",
    "matriz1 = np.random.randint(0,50,(x,x))\n",
    "matriz2 = np.random.randint(0,50,(x,x))\n",
    "acct = Counter()\n",
    "cont_mult2(matriz1,matriz2,acct)\n",
    "acct.print_steps()"
   ]
  },
  {
   "cell_type": "code",
   "execution_count": 242,
   "metadata": {
    "collapsed": true
   },
   "outputs": [],
   "source": [
    "def exper_analysis2(n):\n",
    "    results = []\n",
    "    acct = Counter()\n",
    "    for i in range(n):\n",
    "        matriz1 = np.random.randint(0,50,(i,i))\n",
    "        matriz2 = np.random.randint(0,50,(i,i))\n",
    "        acct.reset()\n",
    "        cont_mult2(matriz1,matriz2,acct)\n",
    "        results.append(acct.steps)\n",
    "    return results"
   ]
  },
  {
   "cell_type": "code",
   "execution_count": 243,
   "metadata": {
    "collapsed": false
   },
   "outputs": [
    {
     "name": "stdout",
     "output_type": "stream",
     "text": [
      "[2, 7, 32, 343, 331, 2875, 2863, 2839, 2827, 23267, 23255, 23263, 23251, 23179, 23167]\n"
     ]
    }
   ],
   "source": [
    "print exper_analysis2(15)"
   ]
  },
  {
   "cell_type": "code",
   "execution_count": 166,
   "metadata": {
    "collapsed": false
   },
   "outputs": [
    {
     "name": "stdout",
     "output_type": "stream",
     "text": [
      "[2, 7, 32, 343, 331, 2875, 2863, 2839, 2827, 23267, 23255, 23263, 23251, 23179, 23167, 23207, 23195, 186867, 186855, 186927]\n"
     ]
    },
    {
     "data": {
      "text/plain": [
       "[<matplotlib.lines.Line2D at 0x9fdf278>]"
      ]
     },
     "execution_count": 166,
     "metadata": {},
     "output_type": "execute_result"
    },
    {
     "data": {
      "image/png": "[encoded data removed]",
      "text/plain": [
       "<matplotlib.figure.Figure at 0x9e35da0>"
      ]
     },
     "metadata": {},
     "output_type": "display_data"
    }
   ],
   "source": [
    "pl.clf()\n",
    "x = np.arange(20)\n",
    "y = np.array(exper_analysis2(20))\n",
    "pl.plot(x, y, 'k.')"
   ]
  },
  {
   "cell_type": "markdown",
   "metadata": {},
   "source": [
    "<h2>Algorítmo de Strassen</h2>"
   ]
  },
  {
   "cell_type": "code",
   "execution_count": 168,
   "metadata": {
    "collapsed": true
   },
   "outputs": [],
   "source": [
    "def resta(matA,matB):\n",
    "    x = len(matA)\n",
    "    matC = np.zeros((x,x))\n",
    "    for i in range(x):\n",
    "        for j in range(x):\n",
    "            matC[i][j] = matA[i][j] - matB[i][j]\n",
    "    return matC\n",
    "\n",
    "def cont_resta(matA,matB,acct):\n",
    "    x = len(matA);acct.count()\n",
    "    matC = np.zeros((x,x));acct.count()\n",
    "    for i in range(x):\n",
    "        acct.count()\n",
    "        for j in range(x):\n",
    "            acct.count()\n",
    "            matC[i][j] = matA[i][j] - matB[i][j];acct.count()\n",
    "    return matC"
   ]
  },
  {
   "cell_type": "code",
   "execution_count": 220,
   "metadata": {
    "collapsed": true
   },
   "outputs": [],
   "source": [
    "def mult3(matrixA, matrixB):\n",
    "    bandera=0\n",
    "    if (len(matrixA) <= 2):\n",
    "         return mult1(matrixA,matrixB, len(matrixA))\n",
    "    else :\n",
    "        tama=len(matrixA)\n",
    "        if(tama%2!=0):\n",
    "            m = np.zeros((tama, 1))\n",
    "            n = np.zeros((1, tama+1))\n",
    "            matrixA = np.c_[matrixA,m]\n",
    "            matrixA = np.r_[matrixA,n]\n",
    "            matrixB = np.c_[matrixB,m]\n",
    "            matrixB = np.r_[matrixB,n]\n",
    "            tama=tama+1    \n",
    "            bandera=1 \n",
    "        tama= (tama)/2\n",
    "        a11=matrixA[:tama,:tama]\n",
    "        a12=matrixA[:tama,tama:]\n",
    "        a21=matrixA[tama:,:tama]\n",
    "        a22=matrixA[tama:,tama:]\n",
    "        b11=matrixB[:tama,:tama]\n",
    "        b12=matrixB[:tama,tama:]\n",
    "        b21=matrixB[tama:,:tama]\n",
    "        b22=matrixB[tama:,tama:]\n",
    "        \n",
    "    m1a = suma(a11,a22)\n",
    "    m1b = suma(b11,b22)\n",
    "    m1  = mult3(m1a,m1b)\n",
    "    m2a = suma(a21,a22)\n",
    "    m2  = mult3(m2a,b11)\n",
    "    m3a = resta(b12,b22)\n",
    "    m3  = mult3(a11,m3a)\n",
    "    m4a = resta(b21,b11)\n",
    "    m4  = mult3(a22,m4a)\n",
    "    m5a = suma(a11,a12)\n",
    "    m5 = mult3(m5a,b22)\n",
    "    m6a = resta(a21,a11)\n",
    "    m6b = suma(b11,b12)\n",
    "    m6 = mult3(m6a,m6b)\n",
    "    m7a = resta(a12,a22)\n",
    "    m7b = suma(b21,b22)\n",
    "    m7 = mult3(m7a,m7b)\n",
    "\n",
    "    c11 = suma(m1,m4)\n",
    "    c11 = resta(c11,m5)\n",
    "    c11 = suma(c11,m7)\n",
    "    c12 = suma(m3,m5)\n",
    "    c21 = suma(m2,m4)\n",
    "    c22 = resta(m1,m2)\n",
    "    c22 = suma(c22,m3)\n",
    "    c22 = suma(c22,m6)\n",
    "\n",
    "    c11 = np.c_[c11,c12]\n",
    "    c21 = np.c_[c21,c22]\n",
    "    c11 = np.r_[c11,c21]\n",
    "    if bandera==1:\n",
    "        ta=len(c11)\n",
    "        c11 = c11[:ta-1,:ta-1]\n",
    "    return c11"
   ]
  },
  {
   "cell_type": "code",
   "execution_count": 223,
   "metadata": {
    "collapsed": false
   },
   "outputs": [
    {
     "name": "stdout",
     "output_type": "stream",
     "text": [
      "[[ 2747.  2678.   527.]\n",
      " [ 3675.  2749.  1191.]\n",
      " [ 3002.  2319.   926.]]\n"
     ]
    }
   ],
   "source": [
    "x = 3\n",
    "matriz1 = np.random.randint(0,50,(x,x))\n",
    "matriz2 = np.random.randint(0,50,(x,x))\n",
    "print mult3(matriz1,matriz2)"
   ]
  },
  {
   "cell_type": "code",
   "execution_count": 230,
   "metadata": {
    "collapsed": false
   },
   "outputs": [],
   "source": [
    "def cont_mult3(matrixA, matrixB,acct):\n",
    "    bandera=0;acct.count()\n",
    "    if (len(matrixA) <= 2):\n",
    "        acct.count()\n",
    "        return cont_mult1(matrixA,matrixB, len(matrixA),acct)\n",
    "    else :\n",
    "        acct.count()\n",
    "        tama=len(matrixA);acct.count()\n",
    "        if(tama%2!=0):\n",
    "            acct.count()\n",
    "            m = np.zeros((tama, 1));acct.count()\n",
    "            n = np.zeros((1, tama+1));acct.count()\n",
    "            matrixA = np.c_[matrixA,m];acct.count()\n",
    "            matrixA = np.r_[matrixA,n];acct.count()\n",
    "            matrixB = np.c_[matrixB,m];acct.count()\n",
    "            matrixB = np.r_[matrixB,n];acct.count()\n",
    "            tama=tama+1    ;acct.count()\n",
    "            bandera=1 ;acct.count()\n",
    "        tama= (tama)/2;acct.count()\n",
    "        a11=matrixA[:tama,:tama];acct.count()\n",
    "        a12=matrixA[:tama,tama:];acct.count()\n",
    "        a21=matrixA[tama:,:tama];acct.count()\n",
    "        a22=matrixA[tama:,tama:];acct.count()\n",
    "        b11=matrixB[:tama,:tama];acct.count()\n",
    "        b12=matrixB[:tama,tama:];acct.count()\n",
    "        b21=matrixB[tama:,:tama];acct.count()\n",
    "        b22=matrixB[tama:,tama:];acct.count()\n",
    "        \n",
    "    m1a = cont_suma(a11,a22,acct);acct.count()\n",
    "    m1b = cont_suma(b11,b22,acct);acct.count()\n",
    "    m1  = cont_mult3(m1a,m1b,acct);acct.count()\n",
    "    m2a = cont_suma(a21,a22,acct);acct.count()\n",
    "    m2  = cont_mult3(m2a,b11,acct);acct.count()\n",
    "    m3a = cont_resta(b12,b22,acct);acct.count()\n",
    "    m3  = cont_mult3(a11,m3a,acct);acct.count()\n",
    "    m4a = cont_resta(b21,b11,acct);acct.count()\n",
    "    m4  = cont_mult3(a22,m4a,acct);acct.count()\n",
    "    m5a = cont_suma(a11,a12,acct);acct.count()\n",
    "    m5 = cont_mult3(m5a,b22,acct);acct.count()\n",
    "    m6a = cont_resta(a21,a11,acct);acct.count()\n",
    "    m6b = cont_suma(b11,b12,acct);acct.count()\n",
    "    m6 = cont_mult3(m6a,m6b,acct);acct.count()\n",
    "    m7a = cont_resta(a12,a22,acct);acct.count()\n",
    "    m7b = cont_suma(b21,b22,acct);acct.count()\n",
    "    m7 = cont_mult3(m7a,m7b,acct);acct.count()\n",
    "\n",
    "    c11 = cont_suma(m1,m4,acct);acct.count()\n",
    "    c11 = cont_resta(c11,m5,acct);acct.count()\n",
    "    c11 = cont_suma(c11,m7,acct);acct.count()\n",
    "    c12 = cont_suma(m3,m5,acct);acct.count()\n",
    "    c21 = cont_suma(m2,m4,acct);acct.count()\n",
    "    c22 = cont_resta(m1,m2,acct);acct.count()\n",
    "    c22 = cont_suma(c22,m3,acct);acct.count()\n",
    "    c22 = cont_suma(c22,m6,acct);acct.count()\n",
    "\n",
    "    c11 = np.c_[c11,c12];acct.count()\n",
    "    c21 = np.c_[c21,c22];acct.count()\n",
    "    c11 = np.r_[c11,c21];acct.count()\n",
    "    if bandera==1:\n",
    "        acct.count()\n",
    "        ta=len(c11);acct.count()\n",
    "        c11 = c11[:ta-1,:ta-1];acct.count()\n",
    "    return c11"
   ]
  },
  {
   "cell_type": "code",
   "execution_count": 234,
   "metadata": {
    "collapsed": false
   },
   "outputs": [
    {
     "name": "stdout",
     "output_type": "stream",
     "text": [
      "Number of steps = 3959\n"
     ]
    }
   ],
   "source": [
    "x = 5\n",
    "matriz1 = np.random.randint(0,50,(x,x))\n",
    "matriz2 = np.random.randint(0,50,(x,x))\n",
    "acct = Counter()\n",
    "cont_mult3(matriz1,matriz2,acct)\n",
    "acct.print_steps()"
   ]
  },
  {
   "cell_type": "code",
   "execution_count": 238,
   "metadata": {
    "collapsed": true
   },
   "outputs": [],
   "source": [
    "def exper_analysis3(n):\n",
    "    results = []\n",
    "    acct = Counter()\n",
    "    for i in range(n):\n",
    "        matriz1 = np.random.randint(0,50,(i,i))\n",
    "        matriz2 = np.random.randint(0,50,(i,i))\n",
    "        acct.reset()\n",
    "        cont_mult3(matriz1,matriz2,acct)\n",
    "        results.append(acct.steps)\n",
    "    return results"
   ]
  },
  {
   "cell_type": "code",
   "execution_count": 241,
   "metadata": {
    "collapsed": false
   },
   "outputs": [
    {
     "name": "stdout",
     "output_type": "stream",
     "text": [
      "[3, 8, 33, 499, 487, 3959, 3947, 4145, 4133, 28791, 28779, 29121, 29109, 30993, 30981]\n"
     ]
    }
   ],
   "source": [
    "print exper_analysis3(15)"
   ]
  },
  {
   "cell_type": "code",
   "execution_count": 246,
   "metadata": {
    "collapsed": false
   },
   "outputs": [
    {
     "name": "stdout",
     "output_type": "stream",
     "text": [
      "[1, 6, 31, 94, 213, 406, 691, 1086, 1609, 2278, 3111, 4126, 5341, 6774, 8443, 10366, 12561, 15046, 17839, 20958, 24421, 28246, 32451, 37054, 42073, 47526, 53431, 59806, 66669, 74038, 81931, 90366, 99361, 108934, 119103, 129886, 141301, 153366, 166099, 179518, 193641, 208486, 224071, 240414, 257533, 275446, 294171, 313726, 334129, 355398]\n"
     ]
    },
    {
     "data": {
      "text/plain": [
       "[<matplotlib.lines.Line2D at 0xa75b710>]"
      ]
     },
     "execution_count": 246,
     "metadata": {},
     "output_type": "execute_result"
    },
    {
     "data": {
      "image/png": "[encoded data removed]",
      "text/plain": [
       "<matplotlib.figure.Figure at 0x83c52e8>"
      ]
     },
     "metadata": {},
     "output_type": "display_data"
    }
   ],
   "source": [
    "pl.clf()\n",
    "x = np.arange(50)\n",
    "y = np.array(exper_analysis(50))\n",
    "pl.plot(x, y, 'k.',color='red')  #De color rojo el número de operaciones\n",
    "y = np.array(exper_analysis2(50))\n",
    "pl.plot(x, y, 'k.',color='green') #En verde el tiempo de ejecución multiplicado por 1'000.000\n",
    "y = np.array(exper_analysis3(50))\n",
    "pl.plot(x, y, 'k.',color='blue') #En azul T(n)"
   ]
  },
  {
   "cell_type": "code",
   "execution_count": null,
   "metadata": {
    "collapsed": true
   },
   "outputs": [],
   "source": []
  }
 ],
 "metadata": {
  "anaconda-cloud": {},
  "kernelspec": {
   "display_name": "Python [conda root]",
   "language": "python",
   "name": "conda-root-py"
  },
  "language_info": {
   "codemirror_mode": {
    "name": "ipython",
    "version": 2
   },
   "file_extension": ".py",
   "mimetype": "text/x-python",
   "name": "python",
   "nbconvert_exporter": "python",
   "pygments_lexer": "ipython2",
   "version": "2.7.12"
  }
 },
 "nbformat": 4,
 "nbformat_minor": 1
}
