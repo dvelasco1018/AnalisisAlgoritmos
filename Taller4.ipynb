{
 "cells": [
  {
   "cell_type": "markdown",
   "metadata": {},
   "source": [
    "<h1><center> Taller 4 </center></h1>"
   ]
  },
  {
   "cell_type": "markdown",
   "metadata": {},
   "source": [
    "<h2><center> Punto 1 </center></h2>"
   ]
  },
  {
   "cell_type": "code",
   "execution_count": 199,
   "metadata": {
    "collapsed": true
   },
   "outputs": [],
   "source": [
    "import math\n",
    "import numpy as np\n",
    "import pylab as pl\n",
    "%matplotlib inline"
   ]
  },
  {
   "cell_type": "code",
   "execution_count": 200,
   "metadata": {
    "collapsed": true
   },
   "outputs": [],
   "source": [
    "def cadena(X,Y,C):\n",
    "    j=len(Y)\n",
    "    i=len(X)\n",
    "    ca=''\n",
    "    while(C[i][j]>0 and i >= 0 and j >=0):\n",
    "        if(C[i][j-1] == C[i][j]):\n",
    "            j=j-1;\n",
    "            continue;\n",
    "        if(C[i-1][j] == C[i][j] ):\n",
    "            i=i-1;\n",
    "            continue;    \n",
    "        val = Y[j-1]\n",
    "        ca+=val;\n",
    "        i=i-1;\n",
    "        j=j-1;\n",
    "    co =''\n",
    "    for a in range(len(ca)-1,-1,-1):\n",
    "        co+=ca[a];\n",
    "    return co;\n",
    "            \n",
    "        "
   ]
  },
  {
   "cell_type": "code",
   "execution_count": 201,
   "metadata": {
    "collapsed": true
   },
   "outputs": [],
   "source": [
    "import numpy as np\n",
    "\n",
    "global C\n",
    "\n",
    "def lcs(X,Y):\n",
    "    global C\n",
    "    C = np.ones((len(X)+1,len(Y)+1))*-1\n",
    "    lcs3(X,Y,len(X),len(Y))\n",
    "    cad = cadena(X,Y,C)\n",
    "    return C[len(X)-1,len(Y)-1], C,cad\n",
    "    \n",
    "\n",
    "def lcs3(x,y,i,j):\n",
    "    global C\n",
    "    if C[i,j] == -1:\n",
    "        if i == 0 or j == 0:\n",
    "            C[i,j] = 0\n",
    "        else:\n",
    "            if x[i-1]==y[j-1]:\n",
    "                C[i,j] = lcs3(x,y,i-1,j-1)+1\n",
    "            else:\n",
    "                C[i,j] = max(lcs3(x,y,i-1,j),lcs3(x,y,i,j-1))\n",
    "                \n",
    "    return C[i,j]"
   ]
  },
  {
   "cell_type": "code",
   "execution_count": 202,
   "metadata": {
    "collapsed": false,
    "scrolled": true
   },
   "outputs": [
    {
     "name": "stdout",
     "output_type": "stream",
     "text": [
      "BDAB\n"
     ]
    }
   ],
   "source": [
    "len_lcs, lcs_mat, lcs_cad = lcs('ABCBDAB','BDCABA')\n",
    "print lcs_cad"
   ]
  },
  {
   "cell_type": "markdown",
   "metadata": {},
   "source": [
    "<h2><center> Punto 2 </center></h2>"
   ]
  },
  {
   "cell_type": "markdown",
   "metadata": {},
   "source": [
    "<h2>Subestructura óptima</h2>\n",
    "Recompensa:\n",
    "$$r_i = \\max_{1\\leq i\\leq n}(p_i+r_{n-i})$$"
   ]
  },
  {
   "cell_type": "markdown",
   "metadata": {},
   "source": [
    "Implementación simple de arriba hacia abajo (top-down)"
   ]
  },
  {
   "cell_type": "code",
   "execution_count": 203,
   "metadata": {
    "collapsed": true
   },
   "outputs": [],
   "source": [
    "def cut_rodR(p, n):\n",
    "    if n==0:\n",
    "        return 0\n",
    "    q = float('-inf')\n",
    "    for i in range(n):\n",
    "        #print i\n",
    "        q = max(q, p[i] + cut_rodR(p, n-1-i))\n",
    "    return q"
   ]
  },
  {
   "cell_type": "code",
   "execution_count": 204,
   "metadata": {
    "collapsed": true
   },
   "outputs": [],
   "source": [
    "p = [1,5,8,9,10,17,17,20,24,30,31,35,38,39,40,47,47,50,54,60,61,65,68,69,70,77,77,80,84,90,91,95,98,99,100,107,107,110,114,120,121,125,128,129,130,137,137,140,144,150]"
   ]
  },
  {
   "cell_type": "code",
   "execution_count": 205,
   "metadata": {
    "collapsed": false
   },
   "outputs": [
    {
     "name": "stdout",
     "output_type": "stream",
     "text": [
      "22\n"
     ]
    }
   ],
   "source": [
    "sol = cut_rodR(p,8)\n",
    "print sol"
   ]
  },
  {
   "cell_type": "markdown",
   "metadata": {
    "collapsed": true
   },
   "source": [
    "<center><h2> Punto 2.A </h2></center>\n",
    "\n",
    "Implementación de arriba hacia abajo con memorización (memoization)"
   ]
  },
  {
   "cell_type": "code",
   "execution_count": 206,
   "metadata": {
    "collapsed": false
   },
   "outputs": [],
   "source": [
    "global C\n",
    "global cadena\n",
    "\n",
    "def memo_cut_rodTD(p, n):\n",
    "    global C \n",
    "    global cadena\n",
    "    cadena = np.zeros(0)\n",
    "    #cadena = []\n",
    "    C = np.zeros((n,2))\n",
    "    indice=0\n",
    "    r = [-1] * (n+1)\n",
    "    sol = memo_cut_rodTD_aux(p,n,r)\n",
    "    armar(n)\n",
    "    return sol,cadena\n",
    "\n",
    "def armar(n):\n",
    "    global C\n",
    "    global cadena\n",
    "    val1 = C[n-1,0]\n",
    "    val2 = C[n-1,1]\n",
    "    if val1 == 0 or val2 == 0:\n",
    "        val = max(C[n-1,0],C[n-1,1])\n",
    "        cadena = np.insert(cadena,0,val)\n",
    "        return\n",
    "    else:\n",
    "        armar(val1)\n",
    "        armar(val2)\n",
    "        return\n",
    "\n",
    "def memo_cut_rodTD_aux(p,n,r):\n",
    "    global C\n",
    "    if r[n] >= 0:\n",
    "        return r[n]\n",
    "    if n == 0:\n",
    "        q = 0\n",
    "    else:\n",
    "        q = float('-inf')\n",
    "        posmayor = -1\n",
    "        for i in range(1,n+1):\n",
    "            val = p[i-1]+memo_cut_rodTD_aux(p,n-i,r);\n",
    "            if(val > q):\n",
    "                q=val\n",
    "                C[n-1,0]=i\n",
    "                C[n-1,1]=n-i\n",
    "    r[n]=q\n",
    "    return q"
   ]
  },
  {
   "cell_type": "code",
   "execution_count": 207,
   "metadata": {
    "collapsed": false
   },
   "outputs": [
    {
     "name": "stdout",
     "output_type": "stream",
     "text": [
      "10\n",
      "[ 2.  2.]\n"
     ]
    },
    {
     "name": "stderr",
     "output_type": "stream",
     "text": [
      "C:\\Users\\USER\\Anaconda2\\lib\\site-packages\\ipykernel\\__main__.py:19: VisibleDeprecationWarning: using a non-integer number instead of an integer will result in an error in the future\n",
      "C:\\Users\\USER\\Anaconda2\\lib\\site-packages\\ipykernel\\__main__.py:20: VisibleDeprecationWarning: using a non-integer number instead of an integer will result in an error in the future\n",
      "C:\\Users\\USER\\Anaconda2\\lib\\site-packages\\ipykernel\\__main__.py:22: VisibleDeprecationWarning: using a non-integer number instead of an integer will result in an error in the future\n"
     ]
    }
   ],
   "source": [
    "sol, mat = memo_cut_rodTD(p,4)\n",
    "print sol\n",
    "print mat"
   ]
  },
  {
   "cell_type": "markdown",
   "metadata": {},
   "source": [
    "Implementación abajo hacia arriba (bottom-up) con memorización"
   ]
  },
  {
   "cell_type": "code",
   "execution_count": 208,
   "metadata": {
    "collapsed": true
   },
   "outputs": [],
   "source": [
    "def memo_cut_rodBU(p,n):\n",
    "    r = [0] * (n+1)\n",
    "    r[0] = 0\n",
    "    for j in range(1,n+1):\n",
    "        q = float('-inf')\n",
    "        for i in range(1,j+1):            \n",
    "            q = max(q, p[i-1]+r[j-i])\n",
    "        r[j] = q\n",
    "    return r[n]"
   ]
  },
  {
   "cell_type": "code",
   "execution_count": 209,
   "metadata": {
    "collapsed": false,
    "scrolled": true
   },
   "outputs": [
    {
     "name": "stdout",
     "output_type": "stream",
     "text": [
      "10\n"
     ]
    }
   ],
   "source": [
    "sol = memo_cut_rodBU(p,4)\n",
    "print sol"
   ]
  },
  {
   "cell_type": "markdown",
   "metadata": {
    "collapsed": true
   },
   "source": [
    "<h2><center>Punto 2.B </center></h2>"
   ]
  },
  {
   "cell_type": "markdown",
   "metadata": {},
   "source": [
    "<h3> Variando n </h3>"
   ]
  },
  {
   "cell_type": "code",
   "execution_count": 210,
   "metadata": {
    "collapsed": false
   },
   "outputs": [],
   "source": [
    "import random as rnd\n",
    "import time\n",
    "\n",
    "def alg1(n,p):\n",
    "    results = []\n",
    "    results.append(0)\n",
    "    results.append(0)\n",
    "    for x in range(2,n):\n",
    "        tic = time.clock()\n",
    "        cut_rodR(p,x)\n",
    "        toc = time.clock()\n",
    "        results.append((toc-tic)*10000000)\n",
    "    return results\n",
    "\n",
    "def alg2(n,p):\n",
    "    results = []\n",
    "    results.append(0)\n",
    "    results.append(0)\n",
    "    for x in range(2,n):\n",
    "        tic = time.clock()\n",
    "        memo_cut_rodTD(p,x)\n",
    "        toc = time.clock()\n",
    "        results.append((toc-tic)*10000000)\n",
    "    return results\n",
    "\n",
    "def alg3(n,p):\n",
    "    results = []\n",
    "    results.append(0)\n",
    "    results.append(0)\n",
    "    for x in range(2,n):\n",
    "        tic = time.clock()\n",
    "        memo_cut_rodBU(p,x)\n",
    "        toc = time.clock()\n",
    "        results.append((toc-tic)*1000000)\n",
    "    return results\n",
    "\n",
    "\n"
   ]
  },
  {
   "cell_type": "code",
   "execution_count": 211,
   "metadata": {
    "collapsed": true
   },
   "outputs": [],
   "source": [
    "p = [1,5,8,9,10,17,17,20,24,30,31,35,38,39,40,47,47,50,54,60,61,65,68,69,70,77,77,80,84,90,91,95,98,99,100,107,107,110,114,120,121,125,128,129,130,137,137,140,144,150]"
   ]
  },
  {
   "cell_type": "code",
   "execution_count": 151,
   "metadata": {
    "collapsed": false
   },
   "outputs": [
    {
     "name": "stderr",
     "output_type": "stream",
     "text": [
      "C:\\Users\\USER\\Anaconda2\\lib\\site-packages\\ipykernel\\__main__.py:19: VisibleDeprecationWarning: using a non-integer number instead of an integer will result in an error in the future\n",
      "C:\\Users\\USER\\Anaconda2\\lib\\site-packages\\ipykernel\\__main__.py:20: VisibleDeprecationWarning: using a non-integer number instead of an integer will result in an error in the future\n",
      "C:\\Users\\USER\\Anaconda2\\lib\\site-packages\\ipykernel\\__main__.py:22: VisibleDeprecationWarning: using a non-integer number instead of an integer will result in an error in the future\n"
     ]
    },
    {
     "data": {
      "text/plain": [
       "[<matplotlib.lines.Line2D at 0xac44b70>]"
      ]
     },
     "execution_count": 151,
     "metadata": {},
     "output_type": "execute_result"
    },
    {
     "data": {
      "image/png": "[encoded data removed]",
      "text/plain": [
       "<matplotlib.figure.Figure at 0xa9fb8d0>"
      ]
     },
     "metadata": {},
     "output_type": "display_data"
    }
   ],
   "source": [
    "pl.clf()\n",
    "n = 25\n",
    "x = np.arange(n)\n",
    "y = np.array(alg1(n,p))#Primer algoritmo \n",
    "pl.plot(x, y, 'k.',color='red')  \n",
    "y = np.array(alg2(n,p)) #Segundo algoritmo TD\n",
    "pl.plot(x, y, 'k.',color='green') \n",
    "y = np.array(alg3(n,p)) #Tercer algoritmo BU\n",
    "pl.plot(x, y, 'k.',color='blue') "
   ]
  },
  {
   "cell_type": "markdown",
   "metadata": {},
   "source": [
    "<h3> Variando p </h3>"
   ]
  },
  {
   "cell_type": "code",
   "execution_count": 212,
   "metadata": {
    "collapsed": true
   },
   "outputs": [],
   "source": [
    "import random as rnd\n",
    "import time\n",
    "\n",
    "def algp1(n,p):\n",
    "    results = []\n",
    "    for x in range(n):\n",
    "        np.random.shuffle(p)\n",
    "        tic = time.clock()\n",
    "        cut_rodR(p,n)\n",
    "        toc = time.clock()\n",
    "        results.append((toc-tic)*10000000)\n",
    "    return results\n",
    "\n",
    "def algp2(n,p):\n",
    "    results = []\n",
    "    results.append(0)\n",
    "    results.append(0)\n",
    "    for x in range(2,n):\n",
    "        np.random.shuffle(p)\n",
    "        tic = time.clock()\n",
    "        memo_cut_rodTD(p,n)\n",
    "        toc = time.clock()\n",
    "        results.append((toc-tic)*10000000)\n",
    "    return results\n",
    "\n",
    "def algp3(n,p):\n",
    "    results = []\n",
    "    results.append(0)\n",
    "    results.append(0)\n",
    "    for x in range(2,n):\n",
    "        np.random.shuffle(p)\n",
    "        tic = time.clock()\n",
    "        memo_cut_rodBU(p,n)\n",
    "        toc = time.clock()\n",
    "        results.append((toc-tic)*10000000)\n",
    "    return results"
   ]
  },
  {
   "cell_type": "code",
   "execution_count": 213,
   "metadata": {
    "collapsed": false
   },
   "outputs": [
    {
     "name": "stderr",
     "output_type": "stream",
     "text": [
      "C:\\Users\\USER\\Anaconda2\\lib\\site-packages\\ipykernel\\__main__.py:19: VisibleDeprecationWarning: using a non-integer number instead of an integer will result in an error in the future\n",
      "C:\\Users\\USER\\Anaconda2\\lib\\site-packages\\ipykernel\\__main__.py:20: VisibleDeprecationWarning: using a non-integer number instead of an integer will result in an error in the future\n",
      "C:\\Users\\USER\\Anaconda2\\lib\\site-packages\\ipykernel\\__main__.py:22: VisibleDeprecationWarning: using a non-integer number instead of an integer will result in an error in the future\n"
     ]
    },
    {
     "data": {
      "text/plain": [
       "[<matplotlib.lines.Line2D at 0xbad5128>]"
      ]
     },
     "execution_count": 213,
     "metadata": {},
     "output_type": "execute_result"
    },
    {
     "data": {
      "image/png": "[encoded data removed]",
      "text/plain": [
       "<matplotlib.figure.Figure at 0xb867668>"
      ]
     },
     "metadata": {},
     "output_type": "display_data"
    }
   ],
   "source": [
    "pl.clf()\n",
    "n = 12\n",
    "x = np.arange(n)\n",
    "y = np.array(algp1(n,p))#Primer algoritmo \n",
    "pl.plot(x, y, 'k.',color='red')  \n",
    "y = np.array(algp2(n,p)) #Segundo algoritmo TD\n",
    "pl.plot(x, y, 'k.',color='green') \n",
    "y = np.array(algp3(n,p)) #Tercer algoritmo BU\n",
    "pl.plot(x, y, 'k.',color='blue') "
   ]
  },
  {
   "cell_type": "markdown",
   "metadata": {},
   "source": [
    "<h2><center> Punto 3 </center><h2>"
   ]
  },
  {
   "cell_type": "markdown",
   "metadata": {},
   "source": [
    "Las operaciones a realizar son sustitución, eliminación y adición\n",
    "\n",
    "Se va a comparar caracter por caracter, se simulan las 3 acciones y se escoge la mejor\n",
    "\n",
    "En caso de que el caracter que se esté comparando sea igual, se elige la distancia de la subcadena anterior\n",
    "\n",
    "Si no es igual se elige el minimo entre las 3 operaciones\n",
    "\n",
    "Esto se refleja en una matriz, de la longitud de la cadena 1 por la longitud de la cadena 2\n",
    "\n",
    "y para cada sub cadena se calcula la distancia mínima, la respuesta está en la última posición de la matriz\n",
    "\n",
    "La complejidad del algorítmo es de n^2\n"
   ]
  },
  {
   "cell_type": "code",
   "execution_count": 214,
   "metadata": {
    "collapsed": false
   },
   "outputs": [],
   "source": [
    "def distancia(cad1,cad2):\n",
    "    a =  len(cad1)+1\n",
    "    b =  len(cad2)+1\n",
    "    C = np.zeros((a, b))\n",
    "    \n",
    "    for i in range(0,len(cad1)+1):\n",
    "        C[i,0] = i\n",
    "        \n",
    "    for j in range(0,len(cad2)+1):\n",
    "        C[0,j] = j    \n",
    "        \n",
    "    for i in range(1, len(cad1)+1):\n",
    "        for j in range(1, len(cad2)+1):\n",
    "            if (cad1[i-1] == cad2[j-1]):\n",
    "                C[i,j] = C[i-1,j-1]\n",
    "            else:\n",
    "                C[i,j] = min( C[i-1,j-1] + 1 , C[i-1,j] + 1 , C[i,j-1] + 1 )\n",
    "    return C[len(cad1),len(cad2)]\n",
    "\n"
   ]
  },
  {
   "cell_type": "code",
   "execution_count": 215,
   "metadata": {
    "collapsed": false
   },
   "outputs": [
    {
     "name": "stdout",
     "output_type": "stream",
     "text": [
      "3.0\n"
     ]
    }
   ],
   "source": [
    "a = ['h','o','l','a']\n",
    "b = ['o','l','a','f','o']\n",
    "sol = distancia(a,b)\n",
    "print sol"
   ]
  },
  {
   "cell_type": "markdown",
   "metadata": {},
   "source": [
    "<h2><center> Punto 4 </center><h2>"
   ]
  },
  {
   "cell_type": "code",
   "execution_count": 216,
   "metadata": {
    "collapsed": true
   },
   "outputs": [],
   "source": [
    "import numpy as np\n",
    "\n",
    "def rio(X):\n",
    "    global C\n",
    "    C = np.ones((len(X),len(X)))*-1\n",
    "    #print C\n",
    "    rio2(X,0,len(X)-1)\n",
    "    return C\n",
    "    \n",
    "\n",
    "def rio2(x,i,j):\n",
    "    global C\n",
    "    #print \"i \",i ,\" j \",j\n",
    "    if C[i,j] == -1:\n",
    "        if j - i == 1:\n",
    "            C[i,j] = x[i,j]\n",
    "            #print \"retorna \",C[i,j]\n",
    "            return C[i,j]\n",
    "        \n",
    "        valmin = x[i,j]\n",
    "        for t in range(i+1,j):\n",
    "            #print \"llama a \", i,t, \" y \", t,j\n",
    "            val = rio2(x,i,t) + rio2(x,t,j)\n",
    "            if(val < valmin):\n",
    "                valmin = val\n",
    "        C[i,j] = valmin\n",
    "        #print \"val minimo de \",i,j,\" es \",C[i,j]\n",
    "        return C[i,j]\n",
    "    \n",
    "    else:\n",
    "        #print \"Ya se conoce \",C[i,j]\n",
    "        return C[i,j]"
   ]
  },
  {
   "cell_type": "code",
   "execution_count": 217,
   "metadata": {
    "collapsed": false
   },
   "outputs": [
    {
     "name": "stdout",
     "output_type": "stream",
     "text": [
      "[[ 0  1  5 10 15]\n",
      " [-1  0  2  4 20]\n",
      " [-1 -1  0  3 30]\n",
      " [-1 -1 -1  0  5]\n",
      " [-1 -1 -1 -1  0]]\n",
      "[[ -1.   1.   3.   5.  10.]\n",
      " [ -1.  -1.   2.   4.   9.]\n",
      " [ -1.  -1.  -1.   3.   8.]\n",
      " [ -1.  -1.  -1.  -1.   5.]\n",
      " [ -1.  -1.  -1.  -1.  -1.]]\n"
     ]
    }
   ],
   "source": [
    "import numpy as np\n",
    "mat=np.matrix([[0,1,5,10,15],[-1,0,2,4,20],[-1,-1,0,3,30],[-1,-1,-1,0,5],[-1,-1,-1,-1,0]])\n",
    "print mat\n",
    "resp = rio(mat)\n",
    "print resp"
   ]
  }
 ],
 "metadata": {
  "anaconda-cloud": {},
  "kernelspec": {
   "display_name": "Python [default]",
   "language": "python",
   "name": "python2"
  },
  "language_info": {
   "codemirror_mode": {
    "name": "ipython",
    "version": 2
   },
   "file_extension": ".py",
   "mimetype": "text/x-python",
   "name": "python",
   "nbconvert_exporter": "python",
   "pygments_lexer": "ipython2",
   "version": "2.7.12"
  }
 },
 "nbformat": 4,
 "nbformat_minor": 0
}
